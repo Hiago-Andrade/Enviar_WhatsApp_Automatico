{
 "cells": [
  {
   "cell_type": "code",
   "execution_count": 6,
   "metadata": {},
   "outputs": [
    {
     "name": "stdout",
     "output_type": "stream",
     "text": [
      "Hi\n",
      "ag\n",
      "o\n"
     ]
    }
   ],
   "source": [
    "# Utilizando o For\n",
    "\n",
    "i = 0\n",
    "retorno = \"\"\n",
    "\n",
    "for letra in \"Hiago\":\n",
    "    retorno = retorno + letra\n",
    "    i = i + 1\n",
    "    if i > 1:\n",
    "        print (retorno)\n",
    "        retorno = \"\"\n",
    "        i=0\n",
    "        \n",
    "else :\n",
    "    print(letra)"
   ]
  },
  {
   "cell_type": "code",
   "execution_count": 8,
   "metadata": {},
   "outputs": [
    {
     "name": "stdout",
     "output_type": "stream",
     "text": [
      "Hiago Andrade nasceu no dia 17/03/1997\n",
      "Amanda Gonçalves nasceu no dia 29/08/1997\n",
      "Regina Andrade nasceu no dia 17/03/1968\n",
      "Bernardo Andrade nasceu no dia 02/11/2004\n"
     ]
    }
   ],
   "source": [
    "nomes = [\"Hiago Andrade\",\"Amanda Gonçalves\",\"Regina Andrade\", \"Bernardo Andrade\"]\n",
    "data = [\"17/03/1997\",\"29/08/1997\",\"17/03/1968\", \"02/11/2004\"]\n",
    "\n",
    "nomes_data = tuple(zip(nomes,data))\n",
    "\n",
    "for nomes,data in nomes_data:\n",
    "    print(\"{} nasceu no dia {}\".format(nomes,data))"
   ]
  },
  {
   "cell_type": "code",
   "execution_count": 2,
   "metadata": {},
   "outputs": [
    {
     "name": "stdout",
     "output_type": "stream",
     "text": [
      "H\n",
      "i\n",
      "a\n",
      "g\n",
      "o\n"
     ]
    }
   ],
   "source": [
    "i = 0\n",
    "\n",
    "while i< len(\"Hiago\"):   # o while é uma condição, repita esse comando enquanto(while) i< etc\n",
    "    print (\"Hiago\"[i])\n",
    "    i = i + 1"
   ]
  },
  {
   "cell_type": "code",
   "execution_count": 8,
   "metadata": {},
   "outputs": [
    {
     "name": "stdout",
     "output_type": "stream",
     "text": [
      "Regina entrou no bar\n",
      "Amanda entrou no bar\n",
      "Bernardo não entrou no bar\n",
      "Hiago entrou no bar\n"
     ]
    }
   ],
   "source": [
    "# para quebra de repetição [CONTINUE]\n",
    "\n",
    "from random import shuffle \n",
    "clientes = [\"Hiago\",\"Amanda\", \"Regina\", \"Bernardo\"]\n",
    "\n",
    "nãoEntra = \"Bernardo\"\n",
    "shuffle(clientes)             # o shifle embaralha a lista de \"clientes\"\n",
    "\n",
    "for cliente in clientes:\n",
    "    if cliente == nãoEntra:\n",
    "        print (\"{} não entrou no bar\".format(nãoEntra))\n",
    "        continue              # o continue vai continuar a repetição mesmo chegando na cláusula de restrição\n",
    "    print (\"{} entrou no bar\".format(cliente))"
   ]
  },
  {
   "cell_type": "code",
   "execution_count": 11,
   "metadata": {},
   "outputs": [
    {
     "name": "stdout",
     "output_type": "stream",
     "text": [
      "Amanda entrou no bar\n",
      "Regina entrou no bar\n",
      "Bernardo não entrou no bar\n"
     ]
    }
   ],
   "source": [
    "# para quebra de repetição [BREAK]\n",
    "\n",
    "from random import shuffle \n",
    "clientes = [\"Hiago\",\"Amanda\", \"Regina\", \"Bernardo\"]\n",
    "\n",
    "nãoEntra = \"Bernardo\"\n",
    "shuffle(clientes)             # o shifle embaralha a lista de \"clientes\"\n",
    "\n",
    "for cliente in clientes:\n",
    "    if cliente == nãoEntra:\n",
    "        print (\"{} não entrou no bar\".format(nãoEntra))\n",
    "        break                 # o break vai interromper a repetição quando chegar no \"Bernardo\"\n",
    "    \n",
    "    print (\"{} entrou no bar\".format(cliente))"
   ]
  }
 ],
 "metadata": {
  "kernelspec": {
   "display_name": "Python 3",
   "language": "python",
   "name": "python3"
  },
  "language_info": {
   "codemirror_mode": {
    "name": "ipython",
    "version": 3
   },
   "file_extension": ".py",
   "mimetype": "text/x-python",
   "name": "python",
   "nbconvert_exporter": "python",
   "pygments_lexer": "ipython3",
   "version": "3.7.4"
  }
 },
 "nbformat": 4,
 "nbformat_minor": 2
}
