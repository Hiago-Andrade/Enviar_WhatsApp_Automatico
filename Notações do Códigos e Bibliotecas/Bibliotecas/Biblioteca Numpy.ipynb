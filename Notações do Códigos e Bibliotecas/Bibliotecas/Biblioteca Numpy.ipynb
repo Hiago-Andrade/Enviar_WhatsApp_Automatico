{
 "cells": [
  {
   "cell_type": "markdown",
   "metadata": {},
   "source": [
    "## Biblioteca Numpy (lembre-se de instalar o numpy no prompt de comando primeiro)"
   ]
  },
  {
   "cell_type": "code",
   "execution_count": 30,
   "metadata": {},
   "outputs": [],
   "source": [
    "import numpy as np"
   ]
  },
  {
   "cell_type": "markdown",
   "metadata": {},
   "source": [
    "### 1- Básico"
   ]
  },
  {
   "cell_type": "code",
   "execution_count": 31,
   "metadata": {},
   "outputs": [
    {
     "name": "stdout",
     "output_type": "stream",
     "text": [
      "[[1 2 3]\n",
      " [4 5 6]\n",
      " [7 8 9]]\n"
     ]
    }
   ],
   "source": [
    "# Criando matriz 3x3\n",
    "a = np.array([(1,2,3),(4,5,6),(7,8,9)])\n",
    "\n",
    "print(a)"
   ]
  },
  {
   "cell_type": "code",
   "execution_count": 32,
   "metadata": {},
   "outputs": [
    {
     "data": {
      "text/plain": [
       "(3, 3)"
      ]
     },
     "execution_count": 32,
     "metadata": {},
     "output_type": "execute_result"
    }
   ],
   "source": [
    "# Descobrindo a Forma da matriz\n",
    "a.shape"
   ]
  },
  {
   "cell_type": "code",
   "execution_count": 33,
   "metadata": {},
   "outputs": [
    {
     "data": {
      "text/plain": [
       "9"
      ]
     },
     "execution_count": 33,
     "metadata": {},
     "output_type": "execute_result"
    }
   ],
   "source": [
    "# Descobrindo o número de elementos\n",
    "a.size"
   ]
  },
  {
   "cell_type": "code",
   "execution_count": 34,
   "metadata": {},
   "outputs": [
    {
     "name": "stdout",
     "output_type": "stream",
     "text": [
      "[[0. 0. 0.]\n",
      " [0. 0. 0.]\n",
      " [0. 0. 0.]\n",
      " [0. 0. 0.]]\n",
      "\n",
      "[[1. 1. 1.]\n",
      " [1. 1. 1.]\n",
      " [1. 1. 1.]\n",
      " [1. 1. 1.]]\n",
      "\n",
      "[[1. 0. 0. 0. 0. 0. 0. 0. 0. 0.]\n",
      " [0. 1. 0. 0. 0. 0. 0. 0. 0. 0.]\n",
      " [0. 0. 1. 0. 0. 0. 0. 0. 0. 0.]\n",
      " [0. 0. 0. 1. 0. 0. 0. 0. 0. 0.]\n",
      " [0. 0. 0. 0. 1. 0. 0. 0. 0. 0.]\n",
      " [0. 0. 0. 0. 0. 1. 0. 0. 0. 0.]\n",
      " [0. 0. 0. 0. 0. 0. 1. 0. 0. 0.]\n",
      " [0. 0. 0. 0. 0. 0. 0. 1. 0. 0.]\n",
      " [0. 0. 0. 0. 0. 0. 0. 0. 1. 0.]\n",
      " [0. 0. 0. 0. 0. 0. 0. 0. 0. 1.]]\n",
      "\n",
      "[[1. 0. 0. 0. 0. 0. 0. 0. 0. 0.]\n",
      " [0. 1. 0. 0. 0. 0. 0. 0. 0. 0.]\n",
      " [0. 0. 1. 0. 0. 0. 0. 0. 0. 0.]\n",
      " [0. 0. 0. 1. 0. 0. 0. 0. 0. 0.]\n",
      " [0. 0. 0. 0. 1. 0. 0. 0. 0. 0.]\n",
      " [0. 0. 0. 0. 0. 1. 0. 0. 0. 0.]\n",
      " [0. 0. 0. 0. 0. 0. 1. 0. 0. 0.]\n",
      " [0. 0. 0. 0. 0. 0. 0. 1. 0. 0.]\n",
      " [0. 0. 0. 0. 0. 0. 0. 0. 1. 0.]\n",
      " [0. 0. 0. 0. 0. 0. 0. 0. 0. 1.]]\n"
     ]
    }
   ],
   "source": [
    "# Matriz com valor Zero 4x3\n",
    "c = np.zeros([4,3])\n",
    "\n",
    "# Matriz com valor Um 4x3\n",
    "d = np.ones([4,3])\n",
    "\n",
    "# Matriz quadrada 10x10 com diagonal Principal\n",
    "e = np.eye(10)\n",
    "\n",
    "# Matriz Identidade 10x10 (Mesma da matriz acima, apenas mostrando duas formas de fazer)\n",
    "f = np.identity(10)\n",
    "\n",
    "print(c)\n",
    "print(\"\")\n",
    "print(d)\n",
    "print(\"\")\n",
    "print(e)\n",
    "print(\"\")\n",
    "print(f)"
   ]
  },
  {
   "cell_type": "code",
   "execution_count": 35,
   "metadata": {},
   "outputs": [
    {
     "name": "stdout",
     "output_type": "stream",
     "text": [
      "[[0.93370179 0.68393667 0.21679875]\n",
      " [0.34230771 0.15370926 0.96902075]\n",
      " [0.90274035 0.12227465 0.38899259]\n",
      " [0.61048838 0.51482476 0.8826202 ]]\n",
      "\n",
      "[[ 3  0  4]\n",
      " [ 7  2  2]\n",
      " [ 3  0 -4]\n",
      " [ 6  4 -4]]\n"
     ]
    }
   ],
   "source": [
    "# Matriz randomica com valores decimais 4x3\n",
    "rand = np.random.rand(4,3)\n",
    "\n",
    "# Matriz randomica com valores inteiros 4x3 (de-4 até 8)\n",
    "inte = np.random.randint(-4,8, size=(4,3))\n",
    "\n",
    "print(rand)\n",
    "print(\"\")\n",
    "print(inte)"
   ]
  },
  {
   "cell_type": "markdown",
   "metadata": {},
   "source": [
    "### 2- Acrescentando/Mudando elementos especificos, linhas, colunas, etc"
   ]
  },
  {
   "cell_type": "code",
   "execution_count": 36,
   "metadata": {},
   "outputs": [
    {
     "name": "stdout",
     "output_type": "stream",
     "text": [
      "[[ 1  2  3  4  5  6  7]\n",
      " [ 8  9 10 11 12 13 14]]\n"
     ]
    }
   ],
   "source": [
    "h = np.array([[1,2,3,4,5,6,7],[8,9,10,11,12,13,14]])\n",
    "print(h)"
   ]
  },
  {
   "cell_type": "code",
   "execution_count": 37,
   "metadata": {},
   "outputs": [
    {
     "name": "stdout",
     "output_type": "stream",
     "text": [
      "13\n",
      "\n",
      "[1 2 3 4 5 6 7]\n",
      "\n",
      "[ 3 10]\n"
     ]
    }
   ],
   "source": [
    "# Pegar um elemento especifico [L, C] (Lembrnado que a linha 1, para o python, é a linha 0)\n",
    "h1 = h[1, 5]\n",
    "\n",
    "# Pegar uma linha especifica \n",
    "h2 = h[0, :]\n",
    "\n",
    "# Pegar uma coluna especifica\n",
    "h3 = h[:, 2]\n",
    "\n",
    "print(h1)\n",
    "print(\"\")\n",
    "print(h2)\n",
    "print(\"\")\n",
    "print(h3)"
   ]
  },
  {
   "cell_type": "code",
   "execution_count": 42,
   "metadata": {},
   "outputs": [
    {
     "name": "stdout",
     "output_type": "stream",
     "text": [
      "[[1 2 3]\n",
      " [4 5 6]\n",
      " [7 8 9]]\n"
     ]
    }
   ],
   "source": [
    "# Substituindo\n",
    "h[1,5] = 20\n",
    "\n",
    "print(a)"
   ]
  },
  {
   "cell_type": "code",
   "execution_count": 39,
   "metadata": {},
   "outputs": [
    {
     "name": "stdout",
     "output_type": "stream",
     "text": [
      "[[[1 2]\n",
      "  [3 4]]\n",
      "\n",
      " [[5 6]\n",
      "  [7 8]]]\n",
      "\n",
      "4\n"
     ]
    }
   ],
   "source": [
    "# Fazendo a mesma coisa, mas agora para um array de duas matrizes\n",
    "b = np.array([[[1,2],[3,4]],[[5,6],[7,8]]])\n",
    "ElementoEspecifico = b[0,1,1]\n",
    "\n",
    "print(b)\n",
    "print(\"\")\n",
    "print(ElementoEspecifico)"
   ]
  },
  {
   "cell_type": "code",
   "execution_count": 44,
   "metadata": {},
   "outputs": [
    {
     "name": "stdout",
     "output_type": "stream",
     "text": [
      "[[9, 9, 9], [8, 8]]\n"
     ]
    }
   ],
   "source": [
    "Substituição = b[:,1,:] = [[9,9,9],[8,8]]\n",
    "\n",
    "print(Substituição)"
   ]
  },
  {
   "cell_type": "code",
   "execution_count": 45,
   "metadata": {},
   "outputs": [
    {
     "name": "stdout",
     "output_type": "stream",
     "text": [
      "[[1. 1. 1. 1. 1.]\n",
      " [1. 1. 1. 1. 1.]\n",
      " [1. 1. 1. 1. 1.]\n",
      " [1. 1. 1. 1. 1.]\n",
      " [1. 1. 1. 1. 1.]]\n",
      "\n",
      "[[0. 0. 0.]\n",
      " [0. 9. 0.]\n",
      " [0. 0. 0.]]\n",
      "\n",
      "[[1. 1. 1. 1. 1.]\n",
      " [1. 0. 0. 0. 1.]\n",
      " [1. 0. 9. 0. 1.]\n",
      " [1. 0. 0. 0. 1.]\n",
      " [1. 1. 1. 1. 1.]]\n"
     ]
    }
   ],
   "source": [
    "# Acrescentando uma matriz dentro da outra\n",
    "MatrizInicial = np.ones((5,5))\n",
    "print(MatrizInicial)\n",
    "\n",
    "MatrizInput = np.zeros((3,3))\n",
    "MatrizInput[1,1] = 9\n",
    "\n",
    "MatrizInicial[1:-1,1:-1] = MatrizInput\n",
    "\n",
    "print(\"\")\n",
    "print(MatrizInput)\n",
    "print(\"\")\n",
    "print(MatrizInicial)"
   ]
  },
  {
   "cell_type": "markdown",
   "metadata": {},
   "source": [
    "### 3- Cálculos Matemáticos"
   ]
  },
  {
   "cell_type": "code",
   "execution_count": 48,
   "metadata": {},
   "outputs": [
    {
     "name": "stdout",
     "output_type": "stream",
     "text": [
      "[[1 2 3]\n",
      " [4 5 6]\n",
      " [7 8 9]]\n"
     ]
    }
   ],
   "source": [
    "print(a)"
   ]
  },
  {
   "cell_type": "code",
   "execution_count": 50,
   "metadata": {},
   "outputs": [
    {
     "name": "stdout",
     "output_type": "stream",
     "text": [
      "[[ 3  4  5]\n",
      " [ 6  7  8]\n",
      " [ 9 10 11]]\n",
      "\n",
      "[[-1  0  1]\n",
      " [ 2  3  4]\n",
      " [ 5  6  7]]\n",
      "\n",
      "[[ 2  4  6]\n",
      " [ 8 10 12]\n",
      " [14 16 18]]\n",
      "\n",
      "[[0.5 1.  1.5]\n",
      " [2.  2.5 3. ]\n",
      " [3.5 4.  4.5]]\n",
      "\n",
      "[[ 1  4  9]\n",
      " [16 25 36]\n",
      " [49 64 81]]\n",
      "\n",
      "[[ 0.84147098  0.90929743  0.14112001]\n",
      " [-0.7568025  -0.95892427 -0.2794155 ]\n",
      " [ 0.6569866   0.98935825  0.41211849]]\n",
      "\n",
      "[[ 0.54030231 -0.41614684 -0.9899925 ]\n",
      " [-0.65364362  0.28366219  0.96017029]\n",
      " [ 0.75390225 -0.14550003 -0.91113026]]\n"
     ]
    }
   ],
   "source": [
    "soma = a + 2\n",
    "subtração = a - 2\n",
    "multiplicação = a * 2\n",
    "divisão = a / 2\n",
    "elevado = a ** 2\n",
    "seno = np.sin(a)\n",
    "cosseno = np.cos(a)\n",
    "\n",
    "print(soma)\n",
    "print(\"\")\n",
    "print(subtração)\n",
    "print(\"\")\n",
    "print(multiplicação)\n",
    "print(\"\")\n",
    "print(divisão)\n",
    "print(\"\")\n",
    "print(elevado)\n",
    "print(\"\")\n",
    "print(seno)\n",
    "print(\"\")\n",
    "print(cosseno)"
   ]
  },
  {
   "cell_type": "code",
   "execution_count": 46,
   "metadata": {},
   "outputs": [
    {
     "name": "stdout",
     "output_type": "stream",
     "text": [
      "O maior valor da matriz é 9\n",
      "O menor valor da matriz é 1\n",
      "A soma dos valores da matriz é 45\n",
      "A média dos valores da matriz é 5.0\n",
      "O Desvio Padrão é 2.581988897471611\n"
     ]
    }
   ],
   "source": [
    "# Demais Cálculos do Numpy\n",
    "\n",
    "maior = a.max()\n",
    "menor = a.min()\n",
    "soma = a.sum()\n",
    "média = a.mean()\n",
    "DesvPad = a.std()\n",
    "\n",
    "print(\"O maior valor da matriz é {}\".format(str(maior)))\n",
    "print(\"O menor valor da matriz é {}\".format(str(menor)))\n",
    "print(\"A soma dos valores da matriz é {}\".format(str(soma)))\n",
    "print(\"A média dos valores da matriz é {}\".format(str(média)))\n",
    "print(\"O Desvio Padrão é {}\".format(str(DesvPad)))"
   ]
  },
  {
   "cell_type": "markdown",
   "metadata": {},
   "source": [
    "### 4- Álgebra Linear"
   ]
  },
  {
   "cell_type": "code",
   "execution_count": 53,
   "metadata": {},
   "outputs": [
    {
     "name": "stdout",
     "output_type": "stream",
     "text": [
      "[[1. 1. 1.]\n",
      " [1. 1. 1.]]\n",
      "\n",
      "[[3 3]\n",
      " [3 3]\n",
      " [3 3]]\n"
     ]
    },
    {
     "data": {
      "text/plain": [
       "array([[9., 9.],\n",
       "       [9., 9.]])"
      ]
     },
     "execution_count": 53,
     "metadata": {},
     "output_type": "execute_result"
    }
   ],
   "source": [
    "# Multiplicação de Matrizes\n",
    "I = np.ones((2,3))\n",
    "print(I)\n",
    "print(\"\")\n",
    "\n",
    "J = np.full((3,2), 3)\n",
    "print(J)\n",
    "\n",
    "np.matmul(I,J)"
   ]
  },
  {
   "cell_type": "code",
   "execution_count": 54,
   "metadata": {},
   "outputs": [
    {
     "data": {
      "text/plain": [
       "1.0"
      ]
     },
     "execution_count": 54,
     "metadata": {},
     "output_type": "execute_result"
    }
   ],
   "source": [
    "# Descobrindo a Identidade de uma Matriz\n",
    "K = np.identity(3)\n",
    "np.linalg.det(K)"
   ]
  },
  {
   "cell_type": "code",
   "execution_count": null,
   "metadata": {},
   "outputs": [],
   "source": [
    "## Outrs calculos no doc (https://docs.scipy.org/doc/numpy/reference/routines.linalg.html)\n",
    "\n",
    "# Determinante\n",
    "# Traço\n",
    "# Decomposição Singular Vertical\n",
    "# Autovalores\n",
    "# Matriz normal\n",
    "# Inversa\n",
    "# Etc..."
   ]
  },
  {
   "cell_type": "markdown",
   "metadata": {},
   "source": [
    "### 5- Reorganizando Arrays"
   ]
  },
  {
   "cell_type": "code",
   "execution_count": 58,
   "metadata": {},
   "outputs": [
    {
     "name": "stdout",
     "output_type": "stream",
     "text": [
      "[[1 2 3 4]\n",
      " [5 6 7 8]]\n",
      "\n",
      "[[1 2]\n",
      " [3 4]\n",
      " [5 6]\n",
      " [7 8]]\n"
     ]
    }
   ],
   "source": [
    "antes = np.array([[1,2,3,4],[5,6,7,8]])\n",
    "print(antes)\n",
    "print(\"\")\n",
    "\n",
    "depois = antes.reshape((4,2))\n",
    "print(depois)"
   ]
  },
  {
   "cell_type": "code",
   "execution_count": 59,
   "metadata": {},
   "outputs": [
    {
     "data": {
      "text/plain": [
       "array([[1, 2, 3, 4],\n",
       "       [5, 6, 7, 8],\n",
       "       [1, 2, 3, 4],\n",
       "       [5, 6, 7, 8]])"
      ]
     },
     "execution_count": 59,
     "metadata": {},
     "output_type": "execute_result"
    }
   ],
   "source": [
    "# Vetores empilhados verticalmente\n",
    "v1 = np.array([1,2,3,4])\n",
    "v2 = np.array([5,6,7,8])\n",
    "\n",
    "np.vstack([v1,v2,v1,v2])"
   ]
  },
  {
   "cell_type": "code",
   "execution_count": 61,
   "metadata": {},
   "outputs": [
    {
     "data": {
      "text/plain": [
       "array([1, 2, 3, 4, 5, 6, 7, 8, 1, 2, 3, 4, 5, 6, 7, 8])"
      ]
     },
     "execution_count": 61,
     "metadata": {},
     "output_type": "execute_result"
    }
   ],
   "source": [
    "# Empilhados horizontalmente\n",
    "np.hstack([v1,v2,v1,v2])"
   ]
  }
 ],
 "metadata": {
  "kernelspec": {
   "display_name": "Python 3",
   "language": "python",
   "name": "python3"
  },
  "language_info": {
   "codemirror_mode": {
    "name": "ipython",
    "version": 3
   },
   "file_extension": ".py",
   "mimetype": "text/x-python",
   "name": "python",
   "nbconvert_exporter": "python",
   "pygments_lexer": "ipython3",
   "version": "3.8.5"
  }
 },
 "nbformat": 4,
 "nbformat_minor": 2
}
