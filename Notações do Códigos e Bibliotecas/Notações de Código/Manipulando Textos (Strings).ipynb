{
 "cells": [
  {
   "cell_type": "code",
   "execution_count": 1,
   "metadata": {},
   "outputs": [
    {
     "name": "stdout",
     "output_type": "stream",
     "text": [
      "Hiago Andrade Duarte\n",
      "g\n",
      "Hiago Andrade\n",
      "HaoAdae\n",
      "HaoAdaeDat\n",
      " \n",
      "Nessa aula, vamos aprender operações com String no Python. \n",
      "As principais operações que vamos aprender são o Fatiamento de String, \n",
      "Análise com len(), count(), find(), transformações com replace(), upper(), \n",
      "lower(), capitalize(), title(), strip(), junção com join()\n"
     ]
    }
   ],
   "source": [
    "frase = 'Hiago Andrade Duarte'\n",
    "print(frase)\n",
    "print(frase[3])      # printa a \"4º\" letra \n",
    "print(frase[0:13])   # printa da \"1º\" até a \"14º\"\n",
    "print(frase[0:13:2]) # printa da \"1º\" até a \"14º\" pulando de 2 em 2 caracteres\n",
    "print(frase[::2])    # vai do incio até o fim pulando de 2 em 2\n",
    "print(\" \")\n",
    "\n",
    "print(\"\"\"Nessa aula, vamos aprender operações com String no Python. \n",
    "As principais operações que vamos aprender são o Fatiamento de String, \n",
    "Análise com len(), count(), find(), transformações com replace(), upper(), \n",
    "lower(), capitalize(), title(), strip(), junção com join()\"\"\")        # com o \"\"\" ele pega o texto todo"
   ]
  },
  {
   "cell_type": "code",
   "execution_count": 2,
   "metadata": {},
   "outputs": [
    {
     "name": "stdout",
     "output_type": "stream",
     "text": [
      "20\n",
      "False\n",
      "14\n",
      "['Hiago', 'Andrade', 'Duarte']\n",
      "Hiago\n"
     ]
    }
   ],
   "source": [
    "print(len(frase))            # tamano do texto\n",
    "print(\"Curso\" in frase)      # vai indicar que não há a palavra \"curso\" dentro da frase\n",
    "print(frase.find(\"Duarte\"))  # localiza a posição da palavra \"Duarte\"\n",
    "print(frase.split())         # divide as palavras individualmente\n",
    "frase2 = frase.split()\n",
    "print(frase2[0])             # dividi a frase e escrevi o 1º item dividido"
   ]
  },
  {
   "cell_type": "code",
   "execution_count": 5,
   "metadata": {},
   "outputs": [
    {
     "name": "stdout",
     "output_type": "stream",
     "text": [
      "27\n",
      "20\n"
     ]
    }
   ],
   "source": [
    "frase3 = \"   Hiago Andrade Duarte    \"\n",
    "print(len(frase3))\n",
    "print(len(frase3.strip()))     # desconsidera os espaços desnecessarios \n"
   ]
  },
  {
   "cell_type": "code",
   "execution_count": 22,
   "metadata": {},
   "outputs": [
    {
     "name": "stdout",
     "output_type": "stream",
     "text": [
      "[1, 2, 3, 4]\n"
     ]
    }
   ],
   "source": [
    "a = [1,2,3]\n",
    "b = [7,8,9]\n",
    "a.append(4)   # Acrescenta novo dado no final da lista\n",
    "print(a)"
   ]
  },
  {
   "cell_type": "code",
   "execution_count": 23,
   "metadata": {},
   "outputs": [
    {
     "name": "stdout",
     "output_type": "stream",
     "text": [
      "[1, 2, 3, 4, 7, 8, 9]\n"
     ]
    }
   ],
   "source": [
    "for i in b:\n",
    "    a.append(i)\n",
    "print(a)"
   ]
  }
 ],
 "metadata": {
  "kernelspec": {
   "display_name": "Python 3",
   "language": "python",
   "name": "python3"
  },
  "language_info": {
   "codemirror_mode": {
    "name": "ipython",
    "version": 3
   },
   "file_extension": ".py",
   "mimetype": "text/x-python",
   "name": "python",
   "nbconvert_exporter": "python",
   "pygments_lexer": "ipython3",
   "version": "3.7.4"
  }
 },
 "nbformat": 4,
 "nbformat_minor": 2
}
