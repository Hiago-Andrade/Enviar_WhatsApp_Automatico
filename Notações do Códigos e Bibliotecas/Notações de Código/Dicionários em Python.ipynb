{
 "cells": [
  {
   "cell_type": "code",
   "execution_count": 1,
   "metadata": {},
   "outputs": [
    {
     "data": {
      "text/plain": [
       "'Usar {}'"
      ]
     },
     "execution_count": 1,
     "metadata": {},
     "output_type": "execute_result"
    }
   ],
   "source": [
    "# Dicionarios \n",
    "\n",
    "Dicionario = {\"Código\": \"Criar Dicionario\",\n",
    "             \"Regra\":\"Usar {}\",\n",
    "              \"Nota\":10}\n",
    "\n",
    "Dicionario[\"Regra\"]"
   ]
  },
  {
   "cell_type": "code",
   "execution_count": 5,
   "metadata": {},
   "outputs": [
    {
     "data": {
      "text/plain": [
       "1000"
      ]
     },
     "execution_count": 5,
     "metadata": {},
     "output_type": "execute_result"
    }
   ],
   "source": [
    "# Editando dicionarios\n",
    "\n",
    "Dicionario[\"Nota\"] = 1000\n",
    "Dicionario[\"Nota\"]"
   ]
  },
  {
   "cell_type": "code",
   "execution_count": 7,
   "metadata": {},
   "outputs": [
    {
     "name": "stdout",
     "output_type": "stream",
     "text": [
      "{'Código': 'Criar Dicionario', 'Regra': 'Usar {}', 'Nota': 1000, 'Utilidade': 'Organizar especificações de um determinado tema'}\n"
     ]
    }
   ],
   "source": [
    "# Acrescentando novas chaves\n",
    "\n",
    "Dicionario[\"Utilidade\"] = \"Organizar especificações de um determinado tema\"\n",
    "print(Dicionario)"
   ]
  },
  {
   "cell_type": "code",
   "execution_count": 10,
   "metadata": {},
   "outputs": [
    {
     "data": {
      "text/plain": [
       "dict_keys(['Código', 'Regra', 'Nota', 'Utilidade'])"
      ]
     },
     "execution_count": 10,
     "metadata": {},
     "output_type": "execute_result"
    }
   ],
   "source": [
    "# Trazer todas as chaves do Dicionario\n",
    "\n",
    "Dicionario.keys()"
   ]
  },
  {
   "cell_type": "code",
   "execution_count": 11,
   "metadata": {},
   "outputs": [
    {
     "data": {
      "text/plain": [
       "dict_values(['Criar Dicionario', 'Usar {}', 1000, 'Organizar especificações de um determinado tema'])"
      ]
     },
     "execution_count": 11,
     "metadata": {},
     "output_type": "execute_result"
    }
   ],
   "source": [
    "# Trazer todas Valores do Dicionario\n",
    "\n",
    "Dicionario.values()"
   ]
  },
  {
   "cell_type": "code",
   "execution_count": 13,
   "metadata": {},
   "outputs": [
    {
     "data": {
      "text/plain": [
       "dict_items([('Código', 'Criar Dicionario'), ('Regra', 'Usar {}'), ('Nota', 1000), ('Utilidade', 'Organizar especificações de um determinado tema')])"
      ]
     },
     "execution_count": 13,
     "metadata": {},
     "output_type": "execute_result"
    }
   ],
   "source": [
    "# Trazer todos os itens do Dicionario\n",
    "\n",
    "Dicionario.items()"
   ]
  }
 ],
 "metadata": {
  "kernelspec": {
   "display_name": "Python 3",
   "language": "python",
   "name": "python3"
  },
  "language_info": {
   "codemirror_mode": {
    "name": "ipython",
    "version": 3
   },
   "file_extension": ".py",
   "mimetype": "text/x-python",
   "name": "python",
   "nbconvert_exporter": "python",
   "pygments_lexer": "ipython3",
   "version": "3.7.4"
  }
 },
 "nbformat": 4,
 "nbformat_minor": 2
}
