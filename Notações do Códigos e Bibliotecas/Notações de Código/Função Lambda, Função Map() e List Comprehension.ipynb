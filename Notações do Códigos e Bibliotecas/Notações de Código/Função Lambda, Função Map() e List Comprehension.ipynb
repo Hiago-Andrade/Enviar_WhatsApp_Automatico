{
 "cells": [
  {
   "cell_type": "code",
   "execution_count": 1,
   "metadata": {},
   "outputs": [],
   "source": [
    "# Criando uma função qualquer\n",
    "\n",
    "def somaQuadrado (a,b):\n",
    "    somaQuadrado = a**2 + b**2\n",
    "    return somaQuadrado\n",
    "    "
   ]
  },
  {
   "cell_type": "code",
   "execution_count": 2,
   "metadata": {},
   "outputs": [
    {
     "data": {
      "text/plain": [
       "8"
      ]
     },
     "execution_count": 2,
     "metadata": {},
     "output_type": "execute_result"
    }
   ],
   "source": [
    "somaQuadrado(2,2)"
   ]
  },
  {
   "cell_type": "code",
   "execution_count": 3,
   "metadata": {},
   "outputs": [],
   "source": [
    "# Criando a mesma função, mas com o comando lambda\n",
    "\n",
    "somaQuadrado2 = lambda a,b : a**2 + b**2"
   ]
  },
  {
   "cell_type": "code",
   "execution_count": 4,
   "metadata": {},
   "outputs": [
    {
     "data": {
      "text/plain": [
       "8"
      ]
     },
     "execution_count": 4,
     "metadata": {},
     "output_type": "execute_result"
    }
   ],
   "source": [
    "somaQuadrado2(2,2) \n",
    "\n",
    "# Vantagem de criar uma função com um codigo \"menor\""
   ]
  },
  {
   "cell_type": "code",
   "execution_count": 5,
   "metadata": {},
   "outputs": [
    {
     "name": "stdout",
     "output_type": "stream",
     "text": [
      "[3.6, 25.2, 36.0, 72.0, 144.0, 252.0, 36.0]\n",
      "[3.6, 25.2, 36.0, 72.0, 144.0, 252.0, 36.0]\n"
     ]
    }
   ],
   "source": [
    "# Função map\n",
    "\n",
    "\n",
    "# Criando uma lista de Metros por Segundo\n",
    "\n",
    "m_s = [1, 7, 10, 20, 40, 70, 10]\n",
    "\n",
    "# Trasformando para Km/h\n",
    "\n",
    "k_h = []\n",
    "for i in m_s:\n",
    "    k_h.append(i*3.6)\n",
    "print(k_h)    \n",
    "\n",
    "\n",
    "\n",
    "# Transformando para Km/h usando a função map()\n",
    "\n",
    "k_h2 = list(map(lambda x: x*3.6 , m_s ))\n",
    "print(k_h2)\n"
   ]
  },
  {
   "cell_type": "code",
   "execution_count": 6,
   "metadata": {},
   "outputs": [
    {
     "name": "stdout",
     "output_type": "stream",
     "text": [
      "[3.6, 25.2, 36.0, 72.0, 144.0, 252.0, 36.0]\n"
     ]
    }
   ],
   "source": [
    "# List Comprehension\n",
    "\n",
    "K_h3 = [x*3.6 for x in m_s]\n",
    "\n",
    "print(K_h3)"
   ]
  }
 ],
 "metadata": {
  "kernelspec": {
   "display_name": "Python 3",
   "language": "python",
   "name": "python3"
  },
  "language_info": {
   "codemirror_mode": {
    "name": "ipython",
    "version": 3
   },
   "file_extension": ".py",
   "mimetype": "text/x-python",
   "name": "python",
   "nbconvert_exporter": "python",
   "pygments_lexer": "ipython3",
   "version": "3.7.4"
  }
 },
 "nbformat": 4,
 "nbformat_minor": 2
}
