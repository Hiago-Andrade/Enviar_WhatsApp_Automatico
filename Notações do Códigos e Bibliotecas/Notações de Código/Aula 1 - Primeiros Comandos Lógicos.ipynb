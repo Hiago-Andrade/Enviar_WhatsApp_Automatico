{
 "cells": [
  {
   "cell_type": "markdown",
   "metadata": {},
   "source": [
    "#### Atalhos do teclado\n",
    "\n",
    "Ctrl + Enter: executa a célula;\n",
    "\n",
    "Shift + Enter: executa a célula e cria uma nova célula abaixo no modo de comando;\n",
    "\n",
    "Alt + Enter: executa a célula e cria uma nova célula abaixo no modo de edição;\n",
    "\n",
    "Esc + Y: muda a célula para o tipo código;\n",
    "\n",
    "Esc + M: muda a célula para o tipo markdown;\n",
    "\n",
    "Esc + A: insere célula acima;\n",
    "\n",
    "Esc + B: insere célula abaixo;\n",
    "\n",
    "Esc + X: recorta a célula;\n",
    "\n",
    "Esc + C: copia a célula;\n",
    "\n",
    "Esc + V: cola a célula do clipboard abaixo;\n",
    "\n",
    "Shift + V: cola a célula do clipboard acima;\n",
    "\n",
    "D, D: deleta uma célula;\n",
    "\n",
    "Esc + Z: desfaz o apagar célula; e\n",
    "\n",
    "Esc + L: ativa a enumeração das linhas.\n",
    "\n",
    "*: texto em itálico (sem espaço entre o asterisco e o(s)caractere(s)).\n",
    "\n",
    "**: texto negrito (sem espaço entre o asterisco e o(s)caractere(s)).\n",
    "\n",
    "#: cabeçalho nível um.\n",
    "\n",
    "##: cabeçalho nível dois.\n",
    "\n",
    "###: cabeçalho nível três.\n",
    "\n",
    "---: régua azul.\n",
    "\n",
    ">: citação (a citação termina com uma linha em branco).\n",
    "\n",
    "*, + ou -: lista não ordenada (para acrescentar um subitem, adicione dois espaços após o sinal).\n",
    "\n",
    "```: bloco de código (criar uma quebra de linha antes e depois do código, e inserir estes sinais antes e depois do bloco).\n",
    "\n",
    "![title](link da imagem): imagem\n",
    "\n",
    "Os seguintes atalhos estão implementados por default para célula no modo de edição:\n",
    "Tab: autocompleta durante a digitação; e\n",
    "\n",
    "Shift+Tab: abre uma minijanela com parte da documentação sobre a parte do código durante a documentação."
   ]
  },
  {
   "cell_type": "code",
   "execution_count": 5,
   "metadata": {},
   "outputs": [
    {
     "name": "stdout",
     "output_type": "stream",
     "text": [
      "Divisão Real = 0.6666666666666666\n",
      "Divisão de Inteiros = 1\n",
      "Resto de divisão = 1\n",
      "Potenciação = 25\n"
     ]
    }
   ],
   "source": [
    "#Operações matemáticas básicas\n",
    "\n",
    "\"\"\"\n",
    "+    Adição\n",
    "-    Subtração\n",
    "/    Divisão \"Real\"\n",
    "//   Divisãp de inteiros\n",
    "%    Módulo (Resto da Divisão)\n",
    "**   Potenciação\n",
    "\"\"\"\n",
    "\n",
    "print(\"Divisão Real = \" + str(2/3.0))\n",
    "print(\"Divisão de Inteiros = \" + str(5//3))\n",
    "print(\"Resto de divisão = \" + str(7%3))\n",
    "print(\"Potenciação = \" + str(5**2))\n",
    "\n"
   ]
  },
  {
   "cell_type": "code",
   "execution_count": 7,
   "metadata": {},
   "outputs": [
    {
     "data": {
      "text/plain": [
       "'O Hiago foi viajar para Marte'"
      ]
     },
     "execution_count": 7,
     "metadata": {},
     "output_type": "execute_result"
    }
   ],
   "source": [
    "#Criando Strings\n",
    "# são sequencias imutaveis de caracteres\n",
    "# '',\"\", \"\"\"\"\"\"\n",
    "\"O {0} foi viajar para {1}\".format(\"Hiago\", \"Marte\")"
   ]
  },
  {
   "cell_type": "code",
   "execution_count": 3,
   "metadata": {},
   "outputs": [
    {
     "name": "stdout",
     "output_type": "stream",
     "text": [
      "{1, 2, 3, 4, 5, 6, 7}\n",
      "{4}\n",
      "{1, 2, 3}\n",
      "{5, 6, 7}\n"
     ]
    },
    {
     "data": {
      "text/plain": [
       "False"
      ]
     },
     "execution_count": 3,
     "metadata": {},
     "output_type": "execute_result"
    }
   ],
   "source": [
    "#Operações de conjuntos\n",
    "\n",
    "# | União\n",
    "# & Interseção \n",
    "# - Diferença\n",
    "# in Contem\n",
    "# not in Não Contem\n",
    "\n",
    "x ={1, 2, 3, 4}\n",
    "y ={4, 5, 6, 7}\n",
    "\n",
    "print(x | y)\n",
    "print(x & y)\n",
    "print(x - y)\n",
    "print(y - x)\n",
    "\n",
    "\"Hiago\" in \"O Hiago veio trabalhar de carro\"\n",
    "\n",
    "\"Amanda\" not in \"O Hiago veio trabalhar de carro\"\n"
   ]
  },
  {
   "cell_type": "code",
   "execution_count": 6,
   "metadata": {},
   "outputs": [
    {
     "name": "stdout",
     "output_type": "stream",
     "text": [
      "Você saiu\n"
     ]
    }
   ],
   "source": [
    "#Operadores Lógicos \n",
    "\n",
    "# &   E\n",
    "# |   OU\n",
    "# not  NÃO\n",
    "\n",
    "chave = True\n",
    "macaneta = True\n",
    "\n",
    "if  (( chave == True) & (macaneta == True)) :\n",
    "    print (\"Você saiu\")\n",
    "\n",
    "else:\n",
    "    print(\"Você não saiu\")"
   ]
  }
 ],
 "metadata": {
  "kernelspec": {
   "display_name": "Python 3",
   "language": "python",
   "name": "python3"
  },
  "language_info": {
   "codemirror_mode": {
    "name": "ipython",
    "version": 3
   },
   "file_extension": ".py",
   "mimetype": "text/x-python",
   "name": "python",
   "nbconvert_exporter": "python",
   "pygments_lexer": "ipython3",
   "version": "3.7.4"
  }
 },
 "nbformat": 4,
 "nbformat_minor": 2
}
