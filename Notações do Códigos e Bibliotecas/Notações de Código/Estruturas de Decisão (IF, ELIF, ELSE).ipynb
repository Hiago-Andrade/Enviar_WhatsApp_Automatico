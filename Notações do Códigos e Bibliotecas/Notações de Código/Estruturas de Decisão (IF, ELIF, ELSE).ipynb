{
 "cells": [
  {
   "cell_type": "code",
   "execution_count": 20,
   "metadata": {},
   "outputs": [
    {
     "name": "stdout",
     "output_type": "stream",
     "text": [
      "O valor do ingresso é R$ 25\n"
     ]
    }
   ],
   "source": [
    "#Entendendo o if\n",
    "\n",
    "isEstudante = False\n",
    "Idade = 30\n",
    "\n",
    "valor_cinema = 25\n",
    "\n",
    "valor_final = valor_cinema\n",
    "\n",
    "if   isEstudante == True :\n",
    "     valor_final = valor_final * 0.5\n",
    "\n",
    "elif Idade <= 18 :\n",
    "     valor_final = valor_final * 0.5\n",
    "    \n",
    "else :\n",
    "    valor_final = valor_cinema\n",
    "    \n",
    "    \n",
    "print(\"O valor do ingresso é R$ {}\".format(str(valor_final)))\n"
   ]
  },
  {
   "cell_type": "code",
   "execution_count": null,
   "metadata": {},
   "outputs": [],
   "source": [
    "#Como criar uma função\n",
    "\n",
    "# def [nome da função]():\n",
    "#     [escopo da função]\n",
    "    \n",
    "    \n"
   ]
  }
 ],
 "metadata": {
  "kernelspec": {
   "display_name": "Python 3",
   "language": "python",
   "name": "python3"
  },
  "language_info": {
   "codemirror_mode": {
    "name": "ipython",
    "version": 3
   },
   "file_extension": ".py",
   "mimetype": "text/x-python",
   "name": "python",
   "nbconvert_exporter": "python",
   "pygments_lexer": "ipython3",
   "version": "3.7.4"
  }
 },
 "nbformat": 4,
 "nbformat_minor": 2
}
