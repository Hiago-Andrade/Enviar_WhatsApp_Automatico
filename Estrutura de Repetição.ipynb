{
 "cells": [
  {
   "cell_type": "markdown",
   "metadata": {},
   "source": [
    "### 1 - Faça um programa que leia um nome de usuário e a sua senha e não aceite a senha igual ao nome do usuário, mostrando uma mensagem de erro e voltando a pedir as informações.¶"
   ]
  },
  {
   "cell_type": "code",
   "execution_count": 6,
   "metadata": {},
   "outputs": [
    {
     "name": "stdout",
     "output_type": "stream",
     "text": [
      "Digite o nome de usuário desejado: Hiago\n",
      "Escolha uma senha: ········\n",
      "\n",
      "O nome de Usuário e Senha foram aceitos!\n"
     ]
    }
   ],
   "source": [
    "import getpass\n",
    "from IPython.display import clear_output\n",
    "\n",
    "def Cadastro():\n",
    "    x= False\n",
    "    while x == False:\n",
    "        Usuario = str(input(\"Digite o nome de usuário desejado: \"))\n",
    "        Senha = getpass.getpass(\"Escolha uma senha: \")\n",
    "        \n",
    "        if Usuario == Senha:\n",
    "            clear_output()\n",
    "            print(\"O nome de Usuário e Senha não podem ser iguais. Tente novamente\\n\")\n",
    "            x = False\n",
    "            \n",
    "        else: x = True\n",
    "            \n",
    "    \n",
    "    return Usuario, Senha\n",
    "\n",
    "Usuario, Senha = Cadastro()\n",
    "\n",
    "print(\"\\nO nome de Usuário e Senha foram aceitos!\")"
   ]
  },
  {
   "cell_type": "markdown",
   "metadata": {},
   "source": [
    "### 2 - Faça um programa que leia e valide as seguintes informações:\n",
    "#### a) Nome: maior que 2 caracteres;\n",
    "#### b) Idade: entre 0 e 100;\n",
    "#### c) Salário: maior que zero;\n",
    "#### d) Sexo: 'Feminino' ou 'Masculino';¶\n",
    "#### e) Estado Civil: 'Solteiro', 'Casado', 'Viuvo', 'Divorciado'"
   ]
  },
  {
   "cell_type": "code",
   "execution_count": 13,
   "metadata": {},
   "outputs": [
    {
     "name": "stdout",
     "output_type": "stream",
     "text": [
      "Nome: HIAGO\n",
      "Idade: 23 anos\n",
      "Salário: R$4000.0\n",
      "Sexo: MASCULINO\n",
      "Estado Civil: SOLTEIRO\n"
     ]
    }
   ],
   "source": [
    "from IPython.display import clear_output\n",
    "\n",
    "def Nome():\n",
    "    x = False\n",
    "    while x == False:\n",
    "        print(\"Digite seu nome: \")\n",
    "        nome = str(input()).upper()\n",
    "        \n",
    "        if len(nome) < 3:\n",
    "            clear_output()\n",
    "            x = False\n",
    "            print(\"Minimo de três caracteres para o nome, por favor tente novamente\")\n",
    "        else : x = True\n",
    "            \n",
    "    clear_output()\n",
    "    return nome\n",
    "\n",
    "def Idade():\n",
    "    x = False\n",
    "    while x == False:\n",
    "        try:\n",
    "            print(\"Qual a sua idade? \")\n",
    "            idade = int(input())\n",
    "            \n",
    "            if idade < 0 or idade > 100 :\n",
    "                clear_output()\n",
    "                x = False\n",
    "                print (\"Idade não aceita, idade minima = 0 / idade máxima = 100\")\n",
    "            else: x = True\n",
    "                \n",
    "        except ValueError:\n",
    "            clear_output()\n",
    "            x = False\n",
    "            print(\"Por favor, digite números inteiros\")\n",
    "            \n",
    "    clear_output()\n",
    "    return idade\n",
    "\n",
    "def Salário():\n",
    "    x = False\n",
    "    while x == False:\n",
    "        try:\n",
    "            print(\"Qual seu salário? \")\n",
    "            salario = round(float(input()),2)\n",
    "            \n",
    "            if salario < 0 :\n",
    "                clear_output()\n",
    "                x = False\n",
    "                print (\"Salário não aceito, minimo = R$0,00 \")\n",
    "            else: x = True\n",
    "                \n",
    "        except ValueError:\n",
    "            clear_output()\n",
    "            x = False\n",
    "            print(\"Digite apenas números (em caso de decimais utilizar . ao invés de ,)\")\n",
    "            \n",
    "    clear_output()\n",
    "    return salario\n",
    "\n",
    "def Sexo():\n",
    "    x = False\n",
    "    while x == False:\n",
    "        try:      \n",
    "            print(\"Digite seu sexo (F/M): \")\n",
    "            sexo = str(input()).upper()\n",
    "            \n",
    "            if sexo == \"F\" :\n",
    "                sexo = \"FEMININO\"\n",
    "                x = True\n",
    "\n",
    "            elif sexo == \"M\" :\n",
    "                sexo = \"MASCULINO\"\n",
    "                x = True\n",
    "\n",
    "            else : \n",
    "                clear_output()\n",
    "                x = False\n",
    "                print(\"Digite apenas F ou M. Por favor tente novamente\")\n",
    "                \n",
    "        except ValueError:\n",
    "            clear_output()\n",
    "            x = False\n",
    "            print(\"Para sexo, apenas palavras são aceitas. Por favor tente novamente\")\n",
    "            \n",
    "    clear_output()\n",
    "    return sexo\n",
    "\n",
    "def EstadoCivil():\n",
    "    x = False\n",
    "    while x == False:\n",
    "        print(\"Qual seu estado Civil? (S/C,V,D)\")\n",
    "        estado_civil = str(input()).upper()\n",
    "        \n",
    "        if estado_civil == \"S\" or estado_civil == \"C\" or estado_civil == \"V\" or estado_civil == \"D\" :\n",
    "            def switcher(estado_civil):\n",
    "                switcher ={\n",
    "                \"S\":\"SOLTEIRO\",\n",
    "                \"C\":\"CASADO\",\n",
    "                \"V\":\"VIUVO\",\n",
    "                \"D\":\"DIVORCIADO\"\n",
    "            }\n",
    "                return switcher.get(estado_civil,\"Valor Inválido\")\n",
    "            \n",
    "            estado_civil = switcher(estado_civil)\n",
    "            x = True\n",
    "            \n",
    "        else:\n",
    "            x = False\n",
    "            clear_output()\n",
    "            print(\"Estado Civil inválido. Por favor digite (S ou C ou V ou D)\")\n",
    "            \n",
    "    clear_output()\n",
    "    return estado_civil\n",
    "\n",
    "nome = Nome()\n",
    "Idade = Idade()\n",
    "Salário = Salário()\n",
    "Sexo = Sexo()\n",
    "Estado_Civil = EstadoCivil()\n",
    "\n",
    "print(f\"Nome: {nome}\\nIdade: {Idade} anos\\nSalário: R${Salário}\\nSexo: {Sexo}\\nEstado Civil: {Estado_Civil}\")"
   ]
  },
  {
   "cell_type": "markdown",
   "metadata": {},
   "source": [
    "### 3 - Supondo que a população de um país A seja da ordem de 80.000 habitantes com uma taxa anual de crescimento de 3% e que a população de B seja 200.000 habitantes com uma taxa de crescimento de 1.5%. \n",
    "### Faça um programa que calcule e escreva o número de anos necessários para que a população do país A ultrapasse ou iguale a população do país B, mantidas as taxas de crescimento."
   ]
  },
  {
   "cell_type": "code",
   "execution_count": 9,
   "metadata": {},
   "outputs": [
    {
     "name": "stdout",
     "output_type": "stream",
     "text": [
      "A população A necessitará de 63 anos para ser maior ou igual a população B\n",
      "\n",
      "População A: 515034.0\n",
      "População B: 510965.0\n"
     ]
    }
   ],
   "source": [
    "def AnosNecessarios():\n",
    "    x = False\n",
    "    ano = 0\n",
    "    popA = int(80000)\n",
    "    popB = int(200000)\n",
    "    while x == False:\n",
    "        popA = (popA*1.03)\n",
    "        popB = (popB*1.015)\n",
    "        ano = ano + 1\n",
    "        \n",
    "        if popA >= popB:\n",
    "            x = True\n",
    "        else: x = False\n",
    "    return ano, round(popA + 0.5,0), round(popB + 0.5,0)\n",
    "\n",
    "Anos_Necessarios, popA, popB = AnosNecessarios()\n",
    "\n",
    "print(f\"A população A necessitará de {Anos_Necessarios} anos para ser maior ou igual a população B\")\n",
    "print(f\"\\nPopulação A: {popA}\\nPopulação B: {popB}\")"
   ]
  },
  {
   "cell_type": "markdown",
   "metadata": {},
   "source": [
    "### 4 - Altere o programa anterior permitindo ao usuário informar as populações e as taxas de crescimento iniciais. Valide a entrada e permita repetir a operação.¶"
   ]
  },
  {
   "cell_type": "code",
   "execution_count": 6,
   "metadata": {},
   "outputs": [
    {
     "name": "stdout",
     "output_type": "stream",
     "text": [
      "Digite a quantidade de pessoas do país A: 1353000000\n",
      "Digite a quantidade de pessoas do país B: 1393000000\n",
      "Taxa de crescimento A: 1.013\n",
      "Taxa de crescimento B: 1.006\n",
      "\n",
      "A população A necessitará de 5 anos para ser maior ou igual a população B\n",
      "\n",
      "População A: 1443261490.0\n",
      "População B: 1435294498.0\n"
     ]
    }
   ],
   "source": [
    "from IPython.display import clear_output\n",
    "\n",
    "def AnosNecessarios():\n",
    "    x = False\n",
    "    ano = 0\n",
    "    popA = int(input(\"Digite a quantidade de pessoas do país A: \"))\n",
    "    popB = int(input(\"Digite a quantidade de pessoas do país B: \"))\n",
    "    taxaA = float(input(\"Taxa de crescimento A: \"))\n",
    "    taxaB = float(input(\"Taxa de crescimento B: \"))\n",
    "    while x == False:\n",
    "        try: \n",
    "            popA = (popA*taxaA)\n",
    "            popB = (popB*taxaB)\n",
    "            ano = ano + 1\n",
    "            \n",
    "            if taxaA <= taxaB:\n",
    "                clear_output()\n",
    "                x = True\n",
    "                print(\"O pais A nunca terá população maior que o pais B\")\n",
    "\n",
    "            elif popA >= popB:\n",
    "                x = True\n",
    "            else: x = False\n",
    "                \n",
    "        except ValueError: \n",
    "            clear_output()\n",
    "            print(\"Digite apenas números\")\n",
    "            x = False\n",
    "    return ano, round(popA + 0.5,0), round(popB + 0.5,0)\n",
    "\n",
    "Anos_Necessarios, popA, popB = AnosNecessarios()\n",
    "\n",
    "if Anos_Necessarios <=1 : print(\"\")\n",
    "else:\n",
    "    \n",
    "    print(f\"\\nA população A necessitará de {Anos_Necessarios} anos para ser maior ou igual a população B\")\n",
    "    print(f\"\\nPopulação A: {popA}\\nPopulação B: {popB}\")"
   ]
  },
  {
   "cell_type": "markdown",
   "metadata": {},
   "source": [
    "### 5 - Faça um programa que imprima na tela os números de 1 a 20, um abaixo do outro. Depois modifique o programa para que ele mostre os números um ao lado do outro.¶"
   ]
  },
  {
   "cell_type": "code",
   "execution_count": 13,
   "metadata": {},
   "outputs": [
    {
     "name": "stdout",
     "output_type": "stream",
     "text": [
      "1\n",
      "2\n",
      "3\n",
      "4\n",
      "5\n",
      "6\n",
      "7\n",
      "8\n",
      "9\n",
      "10\n",
      "11\n",
      "12\n",
      "13\n",
      "14\n",
      "15\n",
      "16\n",
      "17\n",
      "18\n",
      "19\n",
      "20\n",
      "[1, 2, 3, 4, 5, 6, 7, 8, 9, 10, 11, 12, 13, 14, 15, 16, 17, 18, 19, 20]\n"
     ]
    }
   ],
   "source": [
    "numeros = []\n",
    "\n",
    "for i in range(1, 21):\n",
    "    print(i)\n",
    "    numeros.append(i)\n",
    "    \n",
    "print(numeros)"
   ]
  },
  {
   "cell_type": "markdown",
   "metadata": {},
   "source": [
    "### 6 - Faça um programa que leia 5 números e informe o maior número"
   ]
  },
  {
   "cell_type": "code",
   "execution_count": 2,
   "metadata": {},
   "outputs": [
    {
     "name": "stdout",
     "output_type": "stream",
     "text": [
      "Lista de números digitados: [2.0, 5.0, 10.0, 40.0, 34.2]\n",
      "Maior número: 40.0\n"
     ]
    }
   ],
   "source": [
    "from IPython.display import clear_output\n",
    "\n",
    "Lista =[]\n",
    "x = 0\n",
    "Maior = 0\n",
    "\n",
    "for i in range(1,6):\n",
    "    clear_output()\n",
    "    x = float(input(f\"Digite o {i}º número: \"))\n",
    "    if x > Maior:\n",
    "        Maior = x\n",
    "    Lista.append(x)\n",
    "    \n",
    "clear_output()\n",
    "\n",
    "print(f\"Lista de números digitados: {Lista}\\nMaior número: {Maior}\")"
   ]
  },
  {
   "cell_type": "markdown",
   "metadata": {},
   "source": [
    "### 7 - Faça um programa que leia 5 números e informe a soma e a média dos números.¶"
   ]
  },
  {
   "cell_type": "code",
   "execution_count": 5,
   "metadata": {},
   "outputs": [
    {
     "name": "stdout",
     "output_type": "stream",
     "text": [
      "Lista de números digitados: [5.0, 10.0, 15.0, 20.0, 25.0]\n",
      "Soma: 75.0\n",
      "Média: 15.0\n"
     ]
    }
   ],
   "source": [
    "from IPython.display import clear_output\n",
    "\n",
    "Lista = []\n",
    "x = 0\n",
    "soma = 0\n",
    "\n",
    "for i in range(1,6):\n",
    "    clear_output()\n",
    "    x = float(input(f\"Informe o {i}º número\"))\n",
    "    soma = soma + x\n",
    "    Lista.append(x)\n",
    "\n",
    "clear_output()\n",
    "\n",
    "print(f\"Lista de números digitados: {Lista}\\nSoma: {soma}\\nMédia: {soma/len(Lista)}\")"
   ]
  },
  {
   "cell_type": "markdown",
   "metadata": {},
   "source": [
    "### 8 - Faça um programa que imprima na tela apenas os números ímpares entre 1 e 50.¶"
   ]
  },
  {
   "cell_type": "code",
   "execution_count": 12,
   "metadata": {},
   "outputs": [
    {
     "name": "stdout",
     "output_type": "stream",
     "text": [
      "[1, 3, 5, 7, 9, 11, 13, 15, 17, 19, 21, 23, 25, 27, 29, 31, 33, 35, 37, 39, 41, 43, 45, 47, 49]\n"
     ]
    }
   ],
   "source": [
    "# range(start, stop[, step])\n",
    "\n",
    "Lista =[]\n",
    "for i in range(1,51,2):\n",
    "    Lista.append(i)\n",
    "    \n",
    "print(Lista)"
   ]
  },
  {
   "cell_type": "markdown",
   "metadata": {},
   "source": [
    "### 9 - Faça um programa que receba dois números inteiros e gere os números inteiros que estão no intervalo compreendido por eles. Tambem gere a soma deles"
   ]
  },
  {
   "cell_type": "code",
   "execution_count": 27,
   "metadata": {},
   "outputs": [
    {
     "name": "stdout",
     "output_type": "stream",
     "text": [
      "Digite o início do intervalo: 10\n",
      "Digite o fim do intervalo: 30\n",
      "\n",
      "Intervalo compreendido: [10, 11, 12, 13, 14, 15, 16, 17, 18, 19, 20, 21, 22, 23, 24, 25, 26, 27, 28, 29, 30]\n",
      "Soma: 420\n"
     ]
    }
   ],
   "source": [
    "from IPython.display import clear_output\n",
    "\n",
    "Lista = []\n",
    "soma = 0\n",
    "try:\n",
    "    n1 = int(input(\"Digite o início do intervalo: \"))\n",
    "    n2 = int(input(\"Digite o fim do intervalo: \"))\n",
    "    \n",
    "except ValueError:\n",
    "    clear_output()\n",
    "    print(\"Digite apenas números inteiros\")\n",
    "    n1 = 0\n",
    "    n2 = 0\n",
    "    \n",
    "for i in range(n1,n2+1):\n",
    "    soma = soma + i\n",
    "    Lista.append(i)\n",
    "\n",
    "print(f\"\\nIntervalo compreendido: {Lista}\\nSoma: {soma}\")"
   ]
  },
  {
   "cell_type": "markdown",
   "metadata": {},
   "source": [
    "### 10 - Desenvolva um gerador de tabuada, capaz de gerar a tabuada de qualquer número inteiro entre 1 a 10. O usuário deve informar de qual numero ele deseja ver a tabuada. A saída deve ser conforme o exemplo abaixo:\n",
    "#### Tabuada de 5:\n",
    "#### 5 X 1 = 5\n",
    "#### 5 X 2 = 10\n",
    "#### ...\n",
    "#### 5 X 10 = 50"
   ]
  },
  {
   "cell_type": "code",
   "execution_count": 11,
   "metadata": {},
   "outputs": [
    {
     "name": "stdout",
     "output_type": "stream",
     "text": [
      "A tabuada de 5 é: \n",
      "\n",
      "5 x 1 = 5\n",
      "5 x 2 = 10\n",
      "5 x 3 = 15\n",
      "5 x 4 = 20\n",
      "5 x 5 = 25\n",
      "5 x 6 = 30\n",
      "5 x 7 = 35\n",
      "5 x 8 = 40\n",
      "5 x 9 = 45\n",
      "5 x 10 = 50\n"
     ]
    }
   ],
   "source": [
    "from IPython.display import clear_output\n",
    "\n",
    "try:\n",
    "    \n",
    "    x = int(input(\"Digite o número deseja ver a tabuada: \"))\n",
    "    clear_output()\n",
    "    print(f\"A tabuada de {x} é: \\n\")\n",
    "\n",
    "    for i in range(1,11):\n",
    "        y = x*i\n",
    "        print(f\"{x} x {i} = {y}\")\n",
    "        \n",
    "except ValueError:\n",
    "    clear_output()\n",
    "    print(\"Digite apenas números inteiros\")"
   ]
  },
  {
   "cell_type": "markdown",
   "metadata": {},
   "source": [
    "### 11 - Faça um programa que peça dois números, base e expoente, calcule e mostre o primeiro número elevado ao segundo número. Não utilize a função de potência da linguagem."
   ]
  },
  {
   "cell_type": "code",
   "execution_count": 17,
   "metadata": {},
   "outputs": [
    {
     "name": "stdout",
     "output_type": "stream",
     "text": [
      "Digite o valor da base: 5\n",
      "Digite o valor do expoente: 6\n",
      "\n",
      "Resultado de: 15625.0\n"
     ]
    }
   ],
   "source": [
    "\n",
    "Base = float(input(\"Digite o valor da base: \"))\n",
    "Expoente = int(input(\"Digite o valor do expoente: \"))\n",
    "Resultado = 1\n",
    "\n",
    "for i in range(1, Expoente+1):\n",
    "    Resultado = Resultado * Base\n",
    "print(f\"\\nResultado de: {Resultado}\")"
   ]
  },
  {
   "cell_type": "markdown",
   "metadata": {},
   "source": [
    "### 12 - A série de Fibonacci é formada pela sequência 1,1,2,3,5,8,13,21,34,55,... Faça um programa capaz de gerar a série até o n−ésimo termo."
   ]
  },
  {
   "cell_type": "code",
   "execution_count": 22,
   "metadata": {},
   "outputs": [
    {
     "name": "stdout",
     "output_type": "stream",
     "text": [
      "Sequência de Fibonnaci com 20 termos.\n",
      "\n",
      "[0, 1, 1, 2, 3, 5, 8, 13, 21, 34, 55, 89, 144, 233, 377, 610, 987, 1597, 2584, 4181]\n"
     ]
    }
   ],
   "source": [
    "n = int(input(\"Será gerada a sequência de Fibonacci, até que termo gostaria de gerar? \"))\n",
    "\n",
    "fibo = []\n",
    "\n",
    "clear_output()\n",
    "print(f\"Sequência de Fibonnaci com {n} termos.\\n\")\n",
    "for i in range(0, n):\n",
    "    if i==0 or i==1:\n",
    "        fibo.append(i)\n",
    "    else:\n",
    "        fibo.append(fibo[i-1] + fibo[i-2])\n",
    "print(fibo)"
   ]
  },
  {
   "cell_type": "markdown",
   "metadata": {},
   "source": [
    "### 13 - Faça um programa que calcule o fatorial de um número inteiro fornecido pelo usuário. Ex.: 5!=5.4.3.2.1=120"
   ]
  },
  {
   "cell_type": "code",
   "execution_count": 1,
   "metadata": {},
   "outputs": [
    {
     "name": "stdout",
     "output_type": "stream",
     "text": [
      "Programa para calculo de fatoriais\n",
      "\n",
      "Digite o número desejado: 5\n",
      "O fatorial de 5 é 120\n"
     ]
    }
   ],
   "source": [
    "from IPython.display import clear_output\n",
    "\n",
    "print(\"Programa para calculo de fatoriais\\n\")\n",
    "\n",
    "try:\n",
    "    x = int(input(\"Digite o número desejado: \"))\n",
    "    Fatorial = 1\n",
    "except ValueError:\n",
    "    clear_output()\n",
    "    print(\"Digite números inteiros\\n\")\n",
    "    Fatorial = 0\n",
    "    x = 0\n",
    "\n",
    "for i in range(1,x+1):\n",
    "    Fatorial = Fatorial * i\n",
    "    \n",
    "print(f\"O fatorial de {x} é {Fatorial}\")"
   ]
  },
  {
   "cell_type": "markdown",
   "metadata": {},
   "source": [
    "### 14 - Faça um programa que, dado um conjunto de N números, determine o menor valor, o maior valor e a soma dos valores."
   ]
  },
  {
   "cell_type": "code",
   "execution_count": 3,
   "metadata": {},
   "outputs": [
    {
     "name": "stdout",
     "output_type": "stream",
     "text": [
      "Menor valor: 1\n",
      "Maior valor: 6\n",
      "Soma dos valores: 21\n"
     ]
    }
   ],
   "source": [
    "from IPython.display import clear_output\n",
    "\n",
    "x = False\n",
    "n = []\n",
    "\n",
    "while x==False:\n",
    "    clear_output()\n",
    "    v = int(input(\"Digite um número, para parar digite 0: \"))\n",
    "    if v!=0:\n",
    "        n.append(v)\n",
    "    else:\n",
    "        x = True\n",
    "clear_output()\n",
    "print(\"Menor valor: \" + str(min(n)))\n",
    "print(\"Maior valor: \" + str(max(n)))\n",
    "print(\"Soma dos valores: \" + str(sum(n)))"
   ]
  },
  {
   "cell_type": "markdown",
   "metadata": {},
   "source": [
    "### 15 - Altere o programa de cálculo do fatorial, permitindo ao usuário calcular o fatorial várias vezes e limitando o fatorial a números inteiros positivos e menores que 16."
   ]
  },
  {
   "cell_type": "code",
   "execution_count": 1,
   "metadata": {},
   "outputs": [
    {
     "name": "stdout",
     "output_type": "stream",
     "text": [
      "Obrigado!\n"
     ]
    }
   ],
   "source": [
    "from IPython.display import clear_output\n",
    "\n",
    "c = False\n",
    "\n",
    "while c==False:\n",
    "    def digitar_numero():\n",
    "        n = 0\n",
    "        x = False\n",
    "        while x==False:\n",
    "            try:\n",
    "                print(\"Programa para calculo de fatoriais\\n\")\n",
    "                n = int(input(\"Digite um número: \"))\n",
    "                clear_output()\n",
    "                if n>=0 and n<16:\n",
    "                    x = True\n",
    "                else:\n",
    "                    clear_output()\n",
    "                    print(\"Digite valores entre 0 e 16!\")\n",
    "                    x = False\n",
    "            except:\n",
    "                clear_output()\n",
    "                print(\"Digite apenas números inteiros\\n\")\n",
    "                x = False\n",
    "        return n\n",
    "\n",
    "    def fatorial(n):\n",
    "        fat = 1\n",
    "        for i in range(1, n+1):\n",
    "           fat *= i\n",
    "        return fat\n",
    "\n",
    "    numero = digitar_numero()\n",
    "\n",
    "    print(f\"O fatorial de {numero} é {fatorial(numero)}!\")\n",
    "    \n",
    "    repete = False\n",
    "    while repete==False:\n",
    "        op = input(\"Deseja continuar? ('S' ou 'N')\")\n",
    "        clear_output()\n",
    "        if op.upper() == \"S\":\n",
    "            c = False\n",
    "            repete = True\n",
    "        elif op.upper() == \"N\":\n",
    "            clear_output()\n",
    "            print(\"Obrigado!\")\n",
    "            c = True\n",
    "            repete = True\n",
    "        else:\n",
    "            clear_output()\n",
    "            print(\"Valor inválido\")\n",
    "            repete = False"
   ]
  },
  {
   "cell_type": "markdown",
   "metadata": {},
   "source": [
    "### 16 - Faça um programa que peça um número inteiro e determine se ele é ou não um número primo."
   ]
  },
  {
   "cell_type": "code",
   "execution_count": 13,
   "metadata": {},
   "outputs": [
    {
     "name": "stdout",
     "output_type": "stream",
     "text": [
      "O número 47 é primo\n"
     ]
    }
   ],
   "source": [
    "from IPython.display import clear_output\n",
    "\n",
    "def esc_numero():\n",
    "    x = False\n",
    "    while x == False:\n",
    "        \n",
    "        try:\n",
    "            numero = int(input(\"Escolha um número: \\n\"))\n",
    "            if numero > 0 : x = True\n",
    "            else:\n",
    "                clear_output()\n",
    "                print(\"Escolha apenas números positivos\")\n",
    "                \n",
    "        except ValueError:\n",
    "            clear_output()\n",
    "            print(\"Escolha apenas números\")\n",
    "    return numero\n",
    "\n",
    "def primo():\n",
    "    conta = 0\n",
    "    for i in range(1,esc_numero+1):\n",
    "        if esc_numero%i == 0:\n",
    "            conta = conta + 1\n",
    "        else:\n",
    "            conta = conta\n",
    "    return conta\n",
    "\n",
    "esc_numero = esc_numero()\n",
    "primo = primo()\n",
    "\n",
    "clear_output()\n",
    "if primo <= 2: print(f\"O número {esc_numero} é primo\")\n",
    "else: print(f\"O número {esc_numero} não é primo\")"
   ]
  },
  {
   "cell_type": "markdown",
   "metadata": {},
   "source": [
    "### 17 - Faça um programa que mostre todos os primos entre 1 e N sendo N um número inteiro fornecido pelo usuário."
   ]
  },
  {
   "cell_type": "code",
   "execution_count": 20,
   "metadata": {},
   "outputs": [
    {
     "name": "stdout",
     "output_type": "stream",
     "text": [
      "No intervalo de 0 até 100\n",
      "\n",
      "Os números primos são: [1, 2, 3, 5, 7, 11, 13, 17, 19, 23, 29, 31, 37, 41, 43, 47, 53, 59, 61, 67, 71, 73, 79, 83, 89, 97]\n"
     ]
    }
   ],
   "source": [
    "from IPython.display import clear_output\n",
    "\n",
    "def intervalo():\n",
    "    x = False\n",
    "    while x == False:\n",
    "        try:\n",
    "            intervalo = int(input(\"Digite o núemro maximo do intervalo para mostrar os números primos: \"))\n",
    "            if intervalo < 0 :\n",
    "                clear_output()\n",
    "                print(\"Digite apenas números positivos\\n\")\n",
    "                x = False\n",
    "            else: x = True\n",
    "        except ValueError:\n",
    "            clear_output()\n",
    "            print(\"Digite apenas números inteiros\")\n",
    "            x = False\n",
    "    return intervalo\n",
    "\n",
    "\n",
    "def primos():\n",
    "    lista = [1]\n",
    "    contar_primos = 0\n",
    "    for i in range(1,intervalo+1):\n",
    "        \n",
    "        if contar_primos == 2:\n",
    "            lista.append(i-1)\n",
    "        contar_primos = 0\n",
    "        \n",
    "        for j in range(1,i+1):\n",
    "            \n",
    "            if i%j == 0:\n",
    "                contar_primos = contar_primos + 1\n",
    "    return lista\n",
    "\n",
    "intervalo = intervalo()\n",
    "primos = primos()\n",
    "\n",
    "clear_output()\n",
    "print(f\"No intervalo de 0 até {intervalo}\\n\\nOs números primos são: {primos}\")"
   ]
  },
  {
   "cell_type": "markdown",
   "metadata": {},
   "source": [
    "### 18 - Faça um programa que peça para n pessoas a sua idade, ao final o programa devera verificar se a média de idade da turma varia entre 0 e 25, 26 e 60 e maior que 60; e então, dizer se a turma é jovem, adulta ou idosa, conforme a média calculada."
   ]
  },
  {
   "cell_type": "code",
   "execution_count": 2,
   "metadata": {},
   "outputs": [
    {
     "name": "stdout",
     "output_type": "stream",
     "text": [
      "A turma tem uma média de 2.0 anos\n",
      "\n",
      "É uma turma de jovem\n"
     ]
    }
   ],
   "source": [
    "from IPython.display import clear_output\n",
    "\n",
    "def pedido_idade():\n",
    "    Lista = []\n",
    "    x = False\n",
    "    numero_pessoas = 0\n",
    "    while x == False :\n",
    "        try:\n",
    "            idade = int(input(\"Digite a sua idade (para encerrar, digite -1)\"))\n",
    "            if idade < 0 :\n",
    "                x = True\n",
    "            elif idade > 0 :\n",
    "                Lista.append(idade)\n",
    "                numero_pessoas = numero_pessoas + 1\n",
    "                clear_output()\n",
    "                x = False\n",
    "        except ValueError:\n",
    "            clear_output()\n",
    "            print(\"Digite apenas números inteiros\")\n",
    "            x = False\n",
    "    return Lista, numero_pessoas\n",
    "\n",
    "def média_idade():\n",
    "    media = sum(Lista)/numero_pessoas\n",
    "    return round(media,0)\n",
    "\n",
    "\n",
    "Lista, numero_pessoas = pedido_idade()\n",
    "média_idade =  média_idade()\n",
    "\n",
    "clear_output()\n",
    "if média_idade < 26 :\n",
    "    print(f\"A turma tem uma média de {média_idade} anos\\n\\nÉ uma turma de jovem\")\n",
    "elif média_idade < 61 :\n",
    "    print(f\"A turma tem uma média de {média_idade} anos\\n\\nÉ uma turma de adultos\")\n",
    "else:\n",
    "    print(f\"A turma tem uma média de {média_idade} anos\\n\\nÉ uma turma de idosos\")           "
   ]
  },
  {
   "cell_type": "markdown",
   "metadata": {},
   "source": [
    "### 19 - Você foi contratado para desenvolver o programa que monta a tabela de preços de pães, de 1 até 50 pães, a partir do preço do pão informado pelo usuário, conforme o exemplo abaixo:\n",
    "#### Preço do pão: RS 0.18\n",
    "#### Panificadora - Tabela de preços\n",
    "#### 1 - RS 0.18\n",
    "#### 2 - RS 0.36\n",
    "#### ...\n",
    "#### 50 - RS 9.00"
   ]
  },
  {
   "cell_type": "code",
   "execution_count": 9,
   "metadata": {},
   "outputs": [
    {
     "name": "stdout",
     "output_type": "stream",
     "text": [
      "Preço do pão: R$ 0.18\n",
      "\n",
      "1 - R$ 0.18\n",
      "2 - R$ 0.36\n",
      "3 - R$ 0.54\n",
      "4 - R$ 0.72\n",
      "5 - R$ 0.9\n",
      "6 - R$ 1.08\n",
      "7 - R$ 1.26\n",
      "8 - R$ 1.44\n",
      "9 - R$ 1.62\n",
      "10 - R$ 1.8\n",
      "11 - R$ 1.98\n",
      "12 - R$ 2.16\n",
      "13 - R$ 2.34\n",
      "14 - R$ 2.52\n",
      "15 - R$ 2.7\n",
      "16 - R$ 2.88\n",
      "17 - R$ 3.06\n",
      "18 - R$ 3.24\n",
      "19 - R$ 3.42\n",
      "20 - R$ 3.6\n",
      "21 - R$ 3.78\n",
      "22 - R$ 3.96\n",
      "23 - R$ 4.14\n",
      "24 - R$ 4.32\n",
      "25 - R$ 4.5\n",
      "26 - R$ 4.68\n",
      "27 - R$ 4.86\n",
      "28 - R$ 5.04\n",
      "29 - R$ 5.22\n",
      "30 - R$ 5.4\n",
      "31 - R$ 5.58\n",
      "32 - R$ 5.76\n",
      "33 - R$ 5.94\n",
      "34 - R$ 6.12\n",
      "35 - R$ 6.3\n",
      "36 - R$ 6.48\n",
      "37 - R$ 6.66\n",
      "38 - R$ 6.84\n",
      "39 - R$ 7.02\n",
      "40 - R$ 7.2\n",
      "41 - R$ 7.38\n",
      "42 - R$ 7.56\n",
      "43 - R$ 7.74\n",
      "44 - R$ 7.92\n",
      "45 - R$ 8.1\n",
      "46 - R$ 8.28\n",
      "47 - R$ 8.46\n",
      "48 - R$ 8.64\n",
      "49 - R$ 8.82\n",
      "50 - R$ 9.0\n"
     ]
    }
   ],
   "source": [
    "from IPython.display import clear_output\n",
    "\n",
    "x = False\n",
    "while x == False :\n",
    "    try:\n",
    "        valor_pão = float(input(\"Informe o preço de um pão: \"))\n",
    "        if valor_pão < 0:\n",
    "            clear_output()\n",
    "            print(\"Digite apenas números positivos\")\n",
    "            x = False\n",
    "            \n",
    "        else: x = True\n",
    "            \n",
    "    except ValueError:\n",
    "        clear_output()\n",
    "        print(\"Preço digitado incorretamente\")\n",
    "        x = False\n",
    "        \n",
    "clear_output()\n",
    "print(f\"Preço do pão: R$ {valor_pão}\\n\")\n",
    "\n",
    "\n",
    "for i in range(1,51):\n",
    "    preço_pão = round(valor_pão * i,2)\n",
    "    print(f\"{i} - R$ {preço_pão}\")"
   ]
  },
  {
   "cell_type": "markdown",
   "metadata": {},
   "source": [
    "### 20 - Desenvolva um programa que faça a tabuada de um número qualquer inteiro que será digitado pelo usuário, mas a tabuada não deve necessariamente iniciar em 1 e terminar em 10, o valor inicial e final devem ser informados também pelo usuário, conforme exemplo abaixo:\n",
    "#### Montar a tabuada de: 5\n",
    "#### Começar por: 4\n",
    "#### Terminar em: 7\n",
    "#### Vou montar a tabuada de 5 começando em 4 e terminando em 7:\n",
    "#### 5 X 4 = 20\n",
    "#### 5 X 5 = 25\n",
    "#### 5 X 6 = 30\n",
    "#### 5 X 7 = 35\n",
    "#### Obs: Você deve verificar se o usuário não digitou o final menor que o inicial."
   ]
  },
  {
   "cell_type": "code",
   "execution_count": 1,
   "metadata": {},
   "outputs": [
    {
     "name": "stdout",
     "output_type": "stream",
     "text": [
      "Montar a tabuada de: 5\n",
      "Começar por: 4\n",
      "Terminar em: 7\n",
      "\n",
      "Vou montar a tabuada de 5 começando em 4 e terminando em 7:\n",
      "\n",
      "5 x 4 = 20\n",
      "5 x 5 = 25\n",
      "5 x 6 = 30\n",
      "5 x 7 = 35\n"
     ]
    }
   ],
   "source": [
    "from IPython.display import clear_output\n",
    "\n",
    "\n",
    "def perguntas():\n",
    "    x = False\n",
    "    while x == False:\n",
    "        try:\n",
    "            tabuada = int(input(\"Montar a tabuada de: \"))\n",
    "            inicio_intervalo = int(input(\"Começar por: \"))\n",
    "            fim_intervalo = int(input(\"Terminar em: \"))\n",
    "            if tabuada > 0 and inicio_intervalo > 0 and fim_intervalo > 0:\n",
    "                if inicio_intervalo < fim_intervalo :\n",
    "                    x = True\n",
    "                else : \n",
    "                    clear_output()\n",
    "                    print(\"O valor inicial deve ser menor que o valor final\")\n",
    "            else:\n",
    "                clear_output()\n",
    "                print(\"Digite apenas números positivos\")\n",
    "                x = False\n",
    "        except ValueError:\n",
    "            clear_output()\n",
    "            print(\"Digite apenas números inteiros\")\n",
    "            x = False\n",
    "    print(f\"\\nVou montar a tabuada de {tabuada} começando em {inicio_intervalo} e terminando em {fim_intervalo}:\\n\")        \n",
    "    return tabuada, inicio_intervalo, fim_intervalo\n",
    "\n",
    "def valores():\n",
    "    for i in range(inicio_intervalo, fim_intervalo+1):\n",
    "        conta = tabuada*i\n",
    "        print(f\"{tabuada} x {i} = {conta}\")\n",
    "    return conta\n",
    "\n",
    "tabuada, inicio_intervalo, fim_intervalo = perguntas()\n",
    "valores = valores()"
   ]
  },
  {
   "cell_type": "markdown",
   "metadata": {},
   "source": [
    "### 21 - O cardápio de uma lanchonete é o seguinte:\n",
    "#### Especificação Código Preço\n",
    "#### Cachorro Quente 100 RS1.20\n",
    "#### Hambúrguer 103 RS1,20\n",
    "#### Cheeseburguer 104 RS1,30\n",
    "#### Refrigerante 105 RS1,00\n",
    "#### Faça um programa que leia o código dos itens pedidos e as quantidades desejadas. Calcule e mostre o valor a ser pago por item (preço * quantidade) e o total geral do pedido. Considere que o cliente deve informar quando o pedido deve ser encerrado.¶"
   ]
  },
  {
   "cell_type": "code",
   "execution_count": 19,
   "metadata": {},
   "outputs": [
    {
     "name": "stdout",
     "output_type": "stream",
     "text": [
      "Nota Fiscal\n",
      "\n",
      "CACHORRO-QUENTE\n",
      "Quantidade: 2\n",
      "Preço: R$1.2\n",
      "Valor: R$2.4\n",
      "\n",
      "REFRIGERANTE\n",
      "Quantidade: 2\n",
      "Preço: R$1.0\n",
      "Valor: R$2.0\n",
      "\n",
      "HAMBÚRGUER\n",
      "Quantidade: 1\n",
      "Preço: R$1.2\n",
      "Valor: R$1.2\n",
      "\n",
      "Custo total: R$5.6\n"
     ]
    }
   ],
   "source": [
    "from IPython.display import clear_output\n",
    "\n",
    "def codigo_pedido():\n",
    "    Lista_codigo = []\n",
    "    Lista_quantidade = []\n",
    "    x = False\n",
    "    while x == False:\n",
    "        try:\n",
    "            print(\"Bem vindo a lanchonete, para encerrar digite números negativos\")\n",
    "            codigo = int(input(\"Informe o código do pedido: \"))\n",
    "            quantidade = int(input(\"Informe a quantidade desejada: \"))\n",
    "            clear_output()\n",
    "            if codigo > 0 and quantidade > 0:\n",
    "                Lista_quantidade.append(quantidade)\n",
    "                if codigo == 100: \n",
    "                    codigo = \"CACHORRO-QUENTE\"\n",
    "                    Lista_codigo.append(codigo)\n",
    "                elif codigo == 103:\n",
    "                    codigo = \"HAMBÚRGUER\"\n",
    "                    Lista_codigo.append(codigo)\n",
    "                elif codigo == 104:\n",
    "                    codigo = \"CHEESEBURGUER\"\n",
    "                    Lista_codigo.append(codigo)\n",
    "                elif codigo == 105:\n",
    "                    codigo = \"REFRIGERANTE\"\n",
    "                    Lista_codigo.append(codigo)\n",
    "                else: \n",
    "                    codigo = \"CÓDIGO NÃO ENCONTRADO\"\n",
    "                    Lista_codigo.append(codigo)\n",
    "            else:\n",
    "                clear_output\n",
    "                x = True\n",
    "        except ValueError:\n",
    "            clear_output()\n",
    "            print(\"Digite apenas números inteiros\")\n",
    "            x = False\n",
    "\n",
    "    return Lista_codigo, Lista_quantidade\n",
    "\n",
    "def preço():\n",
    "    Lista_preço = []\n",
    "    p = 0\n",
    "    for i in Lista_codigo:\n",
    "        if i == \"CACHORRO-QUENTE\":\n",
    "            p = 1.2\n",
    "            Lista_preço.append(p)\n",
    "        elif i == \"HAMBÚRGUER\":\n",
    "            p = 1.2\n",
    "            Lista_preço.append(p)\n",
    "        elif i == \"CHEESEBURGUER\":\n",
    "            p = 1.3\n",
    "            Lista_preço.append(p)\n",
    "        elif i == \"REFRIGERANTE\":\n",
    "            p = 1.0\n",
    "            Lista_preço.append(p)\n",
    "        else : \n",
    "            p = 0\n",
    "            Lista_preço.append(p)\n",
    "    return Lista_preço\n",
    "\n",
    "Lista_codigo, Lista_quantidade = codigo_pedido()\n",
    "Lista_preço = preço()\n",
    "\n",
    "custo = [Lista_quantidade[i]*Lista_preço[i] for i in range(len(Lista_quantidade))]\n",
    "\n",
    "print(\"Nota Fiscal\")\n",
    "for i in range(len(Lista_codigo)):\n",
    "    print(f\"\\n{Lista_codigo[i]}\\nQuantidade: {Lista_quantidade[i]}\\nPreço: R${Lista_preço[i]}\\nValor: R${custo[i]}\")\n",
    "    \n",
    "\n",
    "print(f\"\\nCusto total: R${round(sum(custo),2)}\")"
   ]
  },
  {
   "cell_type": "markdown",
   "metadata": {},
   "source": [
    "### 22 - Faça um programa que peça um numero inteiro positivo e em seguida mostre este numero invertido."
   ]
  },
  {
   "cell_type": "code",
   "execution_count": 32,
   "metadata": {},
   "outputs": [
    {
     "name": "stdout",
     "output_type": "stream",
     "text": [
      "Digite um número positivo: 123456\n",
      "\n",
      "O número invertido é: 654321\n"
     ]
    }
   ],
   "source": [
    "from IPython.display import clear_output\n",
    "\n",
    "x = False\n",
    "while x == False:\n",
    "    try:\n",
    "        numero = int(input(\"Digite um número positivo: \"))\n",
    "        if numero > 0 :\n",
    "            x = True\n",
    "        else :\n",
    "            clear_output()\n",
    "            print(\"Digite apenas números positivos\")\n",
    "    except ValueError:\n",
    "        clear_output()\n",
    "        print(\"Digite apenas números inteiros\")\n",
    "\n",
    "numero= str(numero)\n",
    "numero_invertido = ''.join(list(reversed(numero)))\n",
    "\n",
    "print(f\"\\nO número invertido é: {numero_invertido}\")"
   ]
  },
  {
   "cell_type": "markdown",
   "metadata": {},
   "source": [
    "### 23 - Sendo H= 1 + 1/2 + 1/3 + 1/4 + ... + 1/N, Faça um programa que calcule o valor de H com N termos."
   ]
  },
  {
   "cell_type": "code",
   "execution_count": 1,
   "metadata": {},
   "outputs": [
    {
     "name": "stdout",
     "output_type": "stream",
     "text": [
      "Descobrindo o valor de H para N termos(Sendo H= 1 + 1/2 + 1/3 + 1/4 + ... + 1/N)\n",
      "\n",
      "Digite o número de termos desejados: 100000\n",
      "\n",
      "Para 100000 termos:\n",
      "H = 12.09\n"
     ]
    }
   ],
   "source": [
    "from IPython.display import clear_output\n",
    "\n",
    "print(\"Descobrindo o valor de H para N termos(Sendo H= 1 + 1/2 + 1/3 + 1/4 + ... + 1/N)\")\n",
    "def numero():\n",
    "    x = False\n",
    "    while x == False:\n",
    "        try:\n",
    "            numero = int(input(\"\\nDigite o número de termos desejados: \"))\n",
    "            if numero > 0 : x = True\n",
    "            else:\n",
    "                clear_output()\n",
    "                print(\"Digite apenas números positivos\")\n",
    "        except ValueError:\n",
    "            clear_output()\n",
    "            print(\"Digite apenas númros inteiros\")\n",
    "    return numero\n",
    "\n",
    "def conta():\n",
    "    Lista = []\n",
    "    for i in range(1,numero+1):\n",
    "        h = 1/i\n",
    "        Lista.append(h)\n",
    "    return Lista\n",
    "\n",
    "numero = numero()\n",
    "conta = conta()\n",
    "\n",
    "print(f\"\\nPara {numero} termos:\\nH = {round(sum(conta),2)}\")"
   ]
  }
 ],
 "metadata": {
  "kernelspec": {
   "display_name": "Python 3",
   "language": "python",
   "name": "python3"
  },
  "language_info": {
   "codemirror_mode": {
    "name": "ipython",
    "version": 3
   },
   "file_extension": ".py",
   "mimetype": "text/x-python",
   "name": "python",
   "nbconvert_exporter": "python",
   "pygments_lexer": "ipython3",
   "version": "3.7.4"
  }
 },
 "nbformat": 4,
 "nbformat_minor": 2
}
