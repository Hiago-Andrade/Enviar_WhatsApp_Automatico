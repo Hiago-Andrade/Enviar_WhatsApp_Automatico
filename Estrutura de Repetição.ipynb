{
 "cells": [
  {
   "cell_type": "markdown",
   "metadata": {},
   "source": [
    "### 1 - Faça um programa que leia um nome de usuário e a sua senha e não aceite a senha igual ao nome do usuário, mostrando uma mensagem de erro e voltando a pedir as informações.¶"
   ]
  },
  {
   "cell_type": "code",
   "execution_count": 6,
   "metadata": {},
   "outputs": [
    {
     "name": "stdout",
     "output_type": "stream",
     "text": [
      "Digite o nome de usuário desejado: Hiago\n",
      "Escolha uma senha: ········\n",
      "\n",
      "O nome de Usuário e Senha foram aceitos!\n"
     ]
    }
   ],
   "source": [
    "import getpass\n",
    "from IPython.display import clear_output\n",
    "\n",
    "def Cadastro():\n",
    "    x= False\n",
    "    while x == False:\n",
    "        Usuario = str(input(\"Digite o nome de usuário desejado: \"))\n",
    "        Senha = getpass.getpass(\"Escolha uma senha: \")\n",
    "        \n",
    "        if Usuario == Senha:\n",
    "            clear_output()\n",
    "            print(\"O nome de Usuário e Senha não podem ser iguais. Tente novamente\\n\")\n",
    "            x = False\n",
    "            \n",
    "        else: x = True\n",
    "            \n",
    "    \n",
    "    return Usuario, Senha\n",
    "\n",
    "Usuario, Senha = Cadastro()\n",
    "\n",
    "print(\"\\nO nome de Usuário e Senha foram aceitos!\")"
   ]
  },
  {
   "cell_type": "markdown",
   "metadata": {},
   "source": [
    "### 2 - Faça um programa que leia e valide as seguintes informações:\n",
    "#### a) Nome: maior que 2 caracteres;\n",
    "#### b) Idade: entre 0 e 100;\n",
    "#### c) Salário: maior que zero;\n",
    "#### d) Sexo: 'Feminino' ou 'Masculino';¶\n",
    "#### e) Estado Civil: 'Solteiro', 'Casado', 'Viuvo', 'Divorciado'"
   ]
  },
  {
   "cell_type": "code",
   "execution_count": 13,
   "metadata": {},
   "outputs": [
    {
     "name": "stdout",
     "output_type": "stream",
     "text": [
      "Nome: HIAGO\n",
      "Idade: 23 anos\n",
      "Salário: R$4000.0\n",
      "Sexo: MASCULINO\n",
      "Estado Civil: SOLTEIRO\n"
     ]
    }
   ],
   "source": [
    "from IPython.display import clear_output\n",
    "\n",
    "def Nome():\n",
    "    x = False\n",
    "    while x == False:\n",
    "        print(\"Digite seu nome: \")\n",
    "        nome = str(input()).upper()\n",
    "        \n",
    "        if len(nome) < 3:\n",
    "            clear_output()\n",
    "            x = False\n",
    "            print(\"Minimo de três caracteres para o nome, por favor tente novamente\")\n",
    "        else : x = True\n",
    "            \n",
    "    clear_output()\n",
    "    return nome\n",
    "\n",
    "def Idade():\n",
    "    x = False\n",
    "    while x == False:\n",
    "        try:\n",
    "            print(\"Qual a sua idade? \")\n",
    "            idade = int(input())\n",
    "            \n",
    "            if idade < 0 or idade > 100 :\n",
    "                clear_output()\n",
    "                x = False\n",
    "                print (\"Idade não aceita, idade minima = 0 / idade máxima = 100\")\n",
    "            else: x = True\n",
    "                \n",
    "        except ValueError:\n",
    "            clear_output()\n",
    "            x = False\n",
    "            print(\"Por favor, digite números inteiros\")\n",
    "            \n",
    "    clear_output()\n",
    "    return idade\n",
    "\n",
    "def Salário():\n",
    "    x = False\n",
    "    while x == False:\n",
    "        try:\n",
    "            print(\"Qual seu salário? \")\n",
    "            salario = round(float(input()),2)\n",
    "            \n",
    "            if salario < 0 :\n",
    "                clear_output()\n",
    "                x = False\n",
    "                print (\"Salário não aceito, minimo = R$0,00 \")\n",
    "            else: x = True\n",
    "                \n",
    "        except ValueError:\n",
    "            clear_output()\n",
    "            x = False\n",
    "            print(\"Digite apenas números (em caso de decimais utilizar . ao invés de ,)\")\n",
    "            \n",
    "    clear_output()\n",
    "    return salario\n",
    "\n",
    "def Sexo():\n",
    "    x = False\n",
    "    while x == False:\n",
    "        try:      \n",
    "            print(\"Digite seu sexo (F/M): \")\n",
    "            sexo = str(input()).upper()\n",
    "            \n",
    "            if sexo == \"F\" :\n",
    "                sexo = \"FEMININO\"\n",
    "                x = True\n",
    "\n",
    "            elif sexo == \"M\" :\n",
    "                sexo = \"MASCULINO\"\n",
    "                x = True\n",
    "\n",
    "            else : \n",
    "                clear_output()\n",
    "                x = False\n",
    "                print(\"Digite apenas F ou M. Por favor tente novamente\")\n",
    "                \n",
    "        except ValueError:\n",
    "            clear_output()\n",
    "            x = False\n",
    "            print(\"Para sexo, apenas palavras são aceitas. Por favor tente novamente\")\n",
    "            \n",
    "    clear_output()\n",
    "    return sexo\n",
    "\n",
    "def EstadoCivil():\n",
    "    x = False\n",
    "    while x == False:\n",
    "        print(\"Qual seu estado Civil? (S/C,V,D)\")\n",
    "        estado_civil = str(input()).upper()\n",
    "        \n",
    "        if estado_civil == \"S\" or estado_civil == \"C\" or estado_civil == \"V\" or estado_civil == \"D\" :\n",
    "            def switcher(estado_civil):\n",
    "                switcher ={\n",
    "                \"S\":\"SOLTEIRO\",\n",
    "                \"C\":\"CASADO\",\n",
    "                \"V\":\"VIUVO\",\n",
    "                \"D\":\"DIVORCIADO\"\n",
    "            }\n",
    "                return switcher.get(estado_civil,\"Valor Inválido\")\n",
    "            \n",
    "            estado_civil = switcher(estado_civil)\n",
    "            x = True\n",
    "            \n",
    "        else:\n",
    "            x = False\n",
    "            clear_output()\n",
    "            print(\"Estado Civil inválido. Por favor digite (S ou C ou V ou D)\")\n",
    "            \n",
    "    clear_output()\n",
    "    return estado_civil\n",
    "\n",
    "nome = Nome()\n",
    "Idade = Idade()\n",
    "Salário = Salário()\n",
    "Sexo = Sexo()\n",
    "Estado_Civil = EstadoCivil()\n",
    "\n",
    "print(f\"Nome: {nome}\\nIdade: {Idade} anos\\nSalário: R${Salário}\\nSexo: {Sexo}\\nEstado Civil: {Estado_Civil}\")"
   ]
  },
  {
   "cell_type": "markdown",
   "metadata": {},
   "source": [
    "### 3 - Supondo que a população de um país A seja da ordem de 80.000 habitantes com uma taxa anual de crescimento de 3% e que a população de B seja 200.000 habitantes com uma taxa de crescimento de 1.5%. \n",
    "### Faça um programa que calcule e escreva o número de anos necessários para que a população do país A ultrapasse ou iguale a população do país B, mantidas as taxas de crescimento."
   ]
  },
  {
   "cell_type": "code",
   "execution_count": 9,
   "metadata": {},
   "outputs": [
    {
     "name": "stdout",
     "output_type": "stream",
     "text": [
      "A população A necessitará de 63 anos para ser maior ou igual a população B\n",
      "\n",
      "População A: 515034.0\n",
      "População B: 510965.0\n"
     ]
    }
   ],
   "source": [
    "def AnosNecessarios():\n",
    "    x = False\n",
    "    ano = 0\n",
    "    popA = int(80000)\n",
    "    popB = int(200000)\n",
    "    while x == False:\n",
    "        popA = (popA*1.03)\n",
    "        popB = (popB*1.015)\n",
    "        ano = ano + 1\n",
    "        \n",
    "        if popA >= popB:\n",
    "            x = True\n",
    "        else: x = False\n",
    "    return ano, round(popA + 0.5,0), round(popB + 0.5,0)\n",
    "\n",
    "Anos_Necessarios, popA, popB = AnosNecessarios()\n",
    "\n",
    "print(f\"A população A necessitará de {Anos_Necessarios} anos para ser maior ou igual a população B\")\n",
    "print(f\"\\nPopulação A: {popA}\\nPopulação B: {popB}\")"
   ]
  },
  {
   "cell_type": "markdown",
   "metadata": {},
   "source": [
    "### 4 - Altere o programa anterior permitindo ao usuário informar as populações e as taxas de crescimento iniciais. Valide a entrada e permita repetir a operação.¶"
   ]
  },
  {
   "cell_type": "code",
   "execution_count": 6,
   "metadata": {},
   "outputs": [
    {
     "name": "stdout",
     "output_type": "stream",
     "text": [
      "Digite a quantidade de pessoas do país A: 1353000000\n",
      "Digite a quantidade de pessoas do país B: 1393000000\n",
      "Taxa de crescimento A: 1.013\n",
      "Taxa de crescimento B: 1.006\n",
      "\n",
      "A população A necessitará de 5 anos para ser maior ou igual a população B\n",
      "\n",
      "População A: 1443261490.0\n",
      "População B: 1435294498.0\n"
     ]
    }
   ],
   "source": [
    "from IPython.display import clear_output\n",
    "\n",
    "def AnosNecessarios():\n",
    "    x = False\n",
    "    ano = 0\n",
    "    popA = int(input(\"Digite a quantidade de pessoas do país A: \"))\n",
    "    popB = int(input(\"Digite a quantidade de pessoas do país B: \"))\n",
    "    taxaA = float(input(\"Taxa de crescimento A: \"))\n",
    "    taxaB = float(input(\"Taxa de crescimento B: \"))\n",
    "    while x == False:\n",
    "        try: \n",
    "            popA = (popA*taxaA)\n",
    "            popB = (popB*taxaB)\n",
    "            ano = ano + 1\n",
    "            \n",
    "            if taxaA <= taxaB:\n",
    "                clear_output()\n",
    "                x = True\n",
    "                print(\"O pais A nunca terá população maior que o pais B\")\n",
    "\n",
    "            elif popA >= popB:\n",
    "                x = True\n",
    "            else: x = False\n",
    "                \n",
    "        except ValueError: \n",
    "            clear_output()\n",
    "            print(\"Digite apenas números\")\n",
    "            x = False\n",
    "    return ano, round(popA + 0.5,0), round(popB + 0.5,0)\n",
    "\n",
    "Anos_Necessarios, popA, popB = AnosNecessarios()\n",
    "\n",
    "if Anos_Necessarios <=1 : print(\"\")\n",
    "else:\n",
    "    \n",
    "    print(f\"\\nA população A necessitará de {Anos_Necessarios} anos para ser maior ou igual a população B\")\n",
    "    print(f\"\\nPopulação A: {popA}\\nPopulação B: {popB}\")"
   ]
  },
  {
   "cell_type": "markdown",
   "metadata": {},
   "source": [
    "### 5 - Faça um programa que imprima na tela os números de 1 a 20, um abaixo do outro. Depois modifique o programa para que ele mostre os números um ao lado do outro.¶"
   ]
  },
  {
   "cell_type": "code",
   "execution_count": 13,
   "metadata": {},
   "outputs": [
    {
     "name": "stdout",
     "output_type": "stream",
     "text": [
      "1\n",
      "2\n",
      "3\n",
      "4\n",
      "5\n",
      "6\n",
      "7\n",
      "8\n",
      "9\n",
      "10\n",
      "11\n",
      "12\n",
      "13\n",
      "14\n",
      "15\n",
      "16\n",
      "17\n",
      "18\n",
      "19\n",
      "20\n",
      "[1, 2, 3, 4, 5, 6, 7, 8, 9, 10, 11, 12, 13, 14, 15, 16, 17, 18, 19, 20]\n"
     ]
    }
   ],
   "source": [
    "numeros = []\n",
    "\n",
    "for i in range(1, 21):\n",
    "    print(i)\n",
    "    numeros.append(i)\n",
    "    \n",
    "print(numeros)"
   ]
  },
  {
   "cell_type": "markdown",
   "metadata": {},
   "source": [
    "### 6 - Faça um programa que leia 5 números e informe o maior número"
   ]
  },
  {
   "cell_type": "code",
   "execution_count": 2,
   "metadata": {},
   "outputs": [
    {
     "name": "stdout",
     "output_type": "stream",
     "text": [
      "Lista de números digitados: [2.0, 5.0, 10.0, 40.0, 34.2]\n",
      "Maior número: 40.0\n"
     ]
    }
   ],
   "source": [
    "from IPython.display import clear_output\n",
    "\n",
    "Lista =[]\n",
    "x = 0\n",
    "Maior = 0\n",
    "\n",
    "for i in range(1,6):\n",
    "    clear_output()\n",
    "    x = float(input(f\"Digite o {i}º número: \"))\n",
    "    if x > Maior:\n",
    "        Maior = x\n",
    "    Lista.append(x)\n",
    "    \n",
    "clear_output()\n",
    "\n",
    "print(f\"Lista de números digitados: {Lista}\\nMaior número: {Maior}\")"
   ]
  },
  {
   "cell_type": "markdown",
   "metadata": {},
   "source": [
    "### 7 - Faça um programa que leia 5 números e informe a soma e a média dos números.¶"
   ]
  },
  {
   "cell_type": "code",
   "execution_count": 5,
   "metadata": {},
   "outputs": [
    {
     "name": "stdout",
     "output_type": "stream",
     "text": [
      "Lista de números digitados: [5.0, 10.0, 15.0, 20.0, 25.0]\n",
      "Soma: 75.0\n",
      "Média: 15.0\n"
     ]
    }
   ],
   "source": [
    "from IPython.display import clear_output\n",
    "\n",
    "Lista = []\n",
    "x = 0\n",
    "soma = 0\n",
    "\n",
    "for i in range(1,6):\n",
    "    clear_output()\n",
    "    x = float(input(f\"Informe o {i}º número\"))\n",
    "    soma = soma + x\n",
    "    Lista.append(x)\n",
    "\n",
    "clear_output()\n",
    "\n",
    "print(f\"Lista de números digitados: {Lista}\\nSoma: {soma}\\nMédia: {soma/len(Lista)}\")"
   ]
  },
  {
   "cell_type": "markdown",
   "metadata": {},
   "source": [
    "### 8 - Faça um programa que imprima na tela apenas os números ímpares entre 1 e 50.¶"
   ]
  },
  {
   "cell_type": "code",
   "execution_count": 12,
   "metadata": {},
   "outputs": [
    {
     "name": "stdout",
     "output_type": "stream",
     "text": [
      "[1, 3, 5, 7, 9, 11, 13, 15, 17, 19, 21, 23, 25, 27, 29, 31, 33, 35, 37, 39, 41, 43, 45, 47, 49]\n"
     ]
    }
   ],
   "source": [
    "# range(start, stop[, step])\n",
    "\n",
    "Lista =[]\n",
    "for i in range(1,51,2):\n",
    "    Lista.append(i)\n",
    "    \n",
    "print(Lista)"
   ]
  },
  {
   "cell_type": "markdown",
   "metadata": {},
   "source": [
    "### 9 - Faça um programa que receba dois números inteiros e gere os números inteiros que estão no intervalo compreendido por eles. Tambem gere a soma deles"
   ]
  },
  {
   "cell_type": "code",
   "execution_count": 27,
   "metadata": {},
   "outputs": [
    {
     "name": "stdout",
     "output_type": "stream",
     "text": [
      "Digite o início do intervalo: 10\n",
      "Digite o fim do intervalo: 30\n",
      "\n",
      "Intervalo compreendido: [10, 11, 12, 13, 14, 15, 16, 17, 18, 19, 20, 21, 22, 23, 24, 25, 26, 27, 28, 29, 30]\n",
      "Soma: 420\n"
     ]
    }
   ],
   "source": [
    "from IPython.display import clear_output\n",
    "\n",
    "Lista = []\n",
    "soma = 0\n",
    "try:\n",
    "    n1 = int(input(\"Digite o início do intervalo: \"))\n",
    "    n2 = int(input(\"Digite o fim do intervalo: \"))\n",
    "    \n",
    "except ValueError:\n",
    "    clear_output()\n",
    "    print(\"Digite apenas números inteiros\")\n",
    "    n1 = 0\n",
    "    n2 = 0\n",
    "    \n",
    "for i in range(n1,n2+1):\n",
    "    soma = soma + i\n",
    "    Lista.append(i)\n",
    "\n",
    "print(f\"\\nIntervalo compreendido: {Lista}\\nSoma: {soma}\")"
   ]
  },
  {
   "cell_type": "markdown",
   "metadata": {},
   "source": [
    "### 10 - Desenvolva um gerador de tabuada, capaz de gerar a tabuada de qualquer número inteiro entre 1 a 10. O usuário deve informar de qual numero ele deseja ver a tabuada. A saída deve ser conforme o exemplo abaixo:\n",
    "#### Tabuada de 5:\n",
    "#### 5 X 1 = 5\n",
    "#### 5 X 2 = 10\n",
    "#### ...\n",
    "#### 5 X 10 = 50"
   ]
  },
  {
   "cell_type": "code",
   "execution_count": 11,
   "metadata": {},
   "outputs": [
    {
     "name": "stdout",
     "output_type": "stream",
     "text": [
      "A tabuada de 5 é: \n",
      "\n",
      "5 x 1 = 5\n",
      "5 x 2 = 10\n",
      "5 x 3 = 15\n",
      "5 x 4 = 20\n",
      "5 x 5 = 25\n",
      "5 x 6 = 30\n",
      "5 x 7 = 35\n",
      "5 x 8 = 40\n",
      "5 x 9 = 45\n",
      "5 x 10 = 50\n"
     ]
    }
   ],
   "source": [
    "from IPython.display import clear_output\n",
    "\n",
    "try:\n",
    "    \n",
    "    x = int(input(\"Digite o número deseja ver a tabuada: \"))\n",
    "    clear_output()\n",
    "    print(f\"A tabuada de {x} é: \\n\")\n",
    "\n",
    "    for i in range(1,11):\n",
    "        y = x*i\n",
    "        print(f\"{x} x {i} = {y}\")\n",
    "        \n",
    "except ValueError:\n",
    "    clear_output()\n",
    "    print(\"Digite apenas números inteiros\")"
   ]
  },
  {
   "cell_type": "markdown",
   "metadata": {},
   "source": [
    "### 11 - Faça um programa que peça dois números, base e expoente, calcule e mostre o primeiro número elevado ao segundo número. Não utilize a função de potência da linguagem."
   ]
  },
  {
   "cell_type": "code",
   "execution_count": 17,
   "metadata": {},
   "outputs": [
    {
     "name": "stdout",
     "output_type": "stream",
     "text": [
      "Digite o valor da base: 5\n",
      "Digite o valor do expoente: 6\n",
      "\n",
      "Resultado de: 15625.0\n"
     ]
    }
   ],
   "source": [
    "\n",
    "Base = float(input(\"Digite o valor da base: \"))\n",
    "Expoente = int(input(\"Digite o valor do expoente: \"))\n",
    "Resultado = 1\n",
    "\n",
    "for i in range(1, Expoente+1):\n",
    "    Resultado = Resultado * Base\n",
    "print(f\"\\nResultado de: {Resultado}\")"
   ]
  },
  {
   "cell_type": "markdown",
   "metadata": {},
   "source": [
    "### 12 - A série de Fibonacci é formada pela sequência 1,1,2,3,5,8,13,21,34,55,... Faça um programa capaz de gerar a série até o n−ésimo termo."
   ]
  },
  {
   "cell_type": "code",
   "execution_count": 22,
   "metadata": {},
   "outputs": [
    {
     "name": "stdout",
     "output_type": "stream",
     "text": [
      "Sequência de Fibonnaci com 20 termos.\n",
      "\n",
      "[0, 1, 1, 2, 3, 5, 8, 13, 21, 34, 55, 89, 144, 233, 377, 610, 987, 1597, 2584, 4181]\n"
     ]
    }
   ],
   "source": [
    "n = int(input(\"Será gerada a sequência de Fibonacci, até que termo gostaria de gerar? \"))\n",
    "\n",
    "fibo = []\n",
    "\n",
    "clear_output()\n",
    "print(f\"Sequência de Fibonnaci com {n} termos.\\n\")\n",
    "for i in range(0, n):\n",
    "    if i==0 or i==1:\n",
    "        fibo.append(i)\n",
    "    else:\n",
    "        fibo.append(fibo[i-1] + fibo[i-2])\n",
    "print(fibo)"
   ]
  },
  {
   "cell_type": "markdown",
   "metadata": {},
   "source": [
    "### 13 - Faça um programa que calcule o fatorial de um número inteiro fornecido pelo usuário. Ex.: 5!=5.4.3.2.1=120"
   ]
  },
  {
   "cell_type": "code",
   "execution_count": null,
   "metadata": {},
   "outputs": [],
   "source": []
  }
 ],
 "metadata": {
  "kernelspec": {
   "display_name": "Python 3",
   "language": "python",
   "name": "python3"
  },
  "language_info": {
   "codemirror_mode": {
    "name": "ipython",
    "version": 3
   },
   "file_extension": ".py",
   "mimetype": "text/x-python",
   "name": "python",
   "nbconvert_exporter": "python",
   "pygments_lexer": "ipython3",
   "version": "3.7.4"
  }
 },
 "nbformat": 4,
 "nbformat_minor": 2
}
