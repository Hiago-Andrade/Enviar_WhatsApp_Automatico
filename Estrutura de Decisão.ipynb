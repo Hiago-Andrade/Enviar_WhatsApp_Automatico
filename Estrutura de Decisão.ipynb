{
 "cells": [
  {
   "cell_type": "markdown",
   "metadata": {},
   "source": [
    "### 1 - Faça um Programa que peça dois números e imprima o maior deles."
   ]
  },
  {
   "cell_type": "code",
   "execution_count": 5,
   "metadata": {},
   "outputs": [
    {
     "name": "stdout",
     "output_type": "stream",
     "text": [
      "Digite um número: 60\n"
     ]
    }
   ],
   "source": [
    "n1 = float(input(\"Digite um número: \"))"
   ]
  },
  {
   "cell_type": "code",
   "execution_count": 8,
   "metadata": {},
   "outputs": [
    {
     "name": "stdout",
     "output_type": "stream",
     "text": [
      "Digite outro número: 60\n"
     ]
    }
   ],
   "source": [
    "n2 = float(input(\"Digite outro número: \"))"
   ]
  },
  {
   "cell_type": "code",
   "execution_count": 9,
   "metadata": {},
   "outputs": [
    {
     "name": "stdout",
     "output_type": "stream",
     "text": [
      "Os números digitados são iguais\n"
     ]
    }
   ],
   "source": [
    "if n1 > n2:\n",
    "    print(f\"O maior número digitado foi o {n1}\")\n",
    "elif n2>n1:\n",
    "    print(f\"O maior número digitado foi o {n2}\")\n",
    "else:\n",
    "    print(f\"Os números digitados são iguais\")"
   ]
  },
  {
   "cell_type": "markdown",
   "metadata": {},
   "source": [
    "### 2 - Faça um Programa que peça um valor e mostre na tela se o valor é positivo ou negativo."
   ]
  },
  {
   "cell_type": "code",
   "execution_count": 18,
   "metadata": {},
   "outputs": [
    {
     "name": "stdout",
     "output_type": "stream",
     "text": [
      "Digite um número: -12\n"
     ]
    }
   ],
   "source": [
    "x = float(input(\"Digite um número: \"))"
   ]
  },
  {
   "cell_type": "code",
   "execution_count": 20,
   "metadata": {},
   "outputs": [
    {
     "name": "stdout",
     "output_type": "stream",
     "text": [
      "O número -12.0 é negativo\n"
     ]
    }
   ],
   "source": [
    "if x>0:\n",
    "    print(f\"O número {x} é positivo\")\n",
    "elif x<0:\n",
    "    print(f\"O número {x} é negativo\")\n",
    "else:\n",
    "    print(f\"O número {x} é nulo\")"
   ]
  },
  {
   "cell_type": "markdown",
   "metadata": {},
   "source": [
    "### 3 - Faça um Programa que verifique se uma letra digitada é vogal ou consoante.¶"
   ]
  },
  {
   "cell_type": "code",
   "execution_count": 38,
   "metadata": {},
   "outputs": [
    {
     "name": "stdout",
     "output_type": "stream",
     "text": [
      "Digite uma letra: H\n"
     ]
    }
   ],
   "source": [
    "letra = str(input(\"Digite uma letra: \"))"
   ]
  },
  {
   "cell_type": "code",
   "execution_count": 40,
   "metadata": {},
   "outputs": [
    {
     "name": "stdout",
     "output_type": "stream",
     "text": [
      "A letra H é uma consoante\n"
     ]
    }
   ],
   "source": [
    "letra2 = letra.lower()\n",
    "\n",
    "if len(letra2) > 1:\n",
    "    print(\"Digite apenas uma letra\")\n",
    "elif len(letra2) == 1 :\n",
    "    vogal = \"aeiou\"\n",
    "    consoante = \"bcçdfghjklmnpqrstvwxyz\"\n",
    "    \n",
    "    if letra2 in vogal:\n",
    "        print(f\"A letra {letra} é uma vogal\")\n",
    "    elif letra2 in consoante:\n",
    "        print(f\"A letra {letra} é uma consoante\")\n",
    "    else:\n",
    "        print(f\"Não foi digitado uma letra\")\n",
    "else:\n",
    "    print(\"Digite uma letra\")"
   ]
  },
  {
   "cell_type": "markdown",
   "metadata": {},
   "source": [
    "### 4 - Faça um programa que pergunte o preço de três produtos e informe qual produto você deve comprar, sabendo que a decisão é sempre pelo mais barato."
   ]
  },
  {
   "cell_type": "code",
   "execution_count": 41,
   "metadata": {},
   "outputs": [
    {
     "name": "stdout",
     "output_type": "stream",
     "text": [
      "Inflorme o preço do produto 1: 10\n",
      "Inflorme o preço do produto 2: 30.50\n",
      "Inflorme o preço do produto 3: 7.50\n"
     ]
    }
   ],
   "source": [
    "p1 = float(input(\"Inflorme o preço do produto 1: \"))\n",
    "p2 = float(input(\"Inflorme o preço do produto 2: \"))\n",
    "p3 = float(input(\"Inflorme o preço do produto 3: \"))"
   ]
  },
  {
   "cell_type": "code",
   "execution_count": 43,
   "metadata": {},
   "outputs": [
    {
     "name": "stdout",
     "output_type": "stream",
     "text": [
      "Você deve comprar o produto de valor R$ 7.5\n"
     ]
    }
   ],
   "source": [
    "menor = p1\n",
    "\n",
    "if p2 < menor:\n",
    "    menor = p2\n",
    "if p3 < menor:\n",
    "    menor = p3\n",
    "\n",
    "print(f\"Você deve comprar o produto de valor R$ {menor}\")"
   ]
  },
  {
   "cell_type": "markdown",
   "metadata": {},
   "source": [
    "### 5 - Uma empresa resolveu dar um aumento de salário aos seus colaboradores e lhe contratou para desenvolver o programa que calculará os reajustes.\n",
    "### Faça um programa que recebe o salário de um colaborador e o reajuste segundo o seguinte critério, baseado no salário atual:\n",
    "##### salários até RS 280,00 (incluindo) : aumento de 20%\n",
    "##### salários entre RS 280,00 e RS 700,00 : aumento de 15%\n",
    "##### salários entre RS 700,00 e RS 1500,00 : aumento de 10%\n",
    "##### salários de RS 1500,00 em diante : aumento de 5% Após o aumento ser realizado, informe na tela:\n",
    "##### o salário antes do reajuste;\n",
    "##### o percentual de aumento aplicado;\n",
    "##### o valor do aumento;\n",
    "##### o novo salário, após o aumento."
   ]
  },
  {
   "cell_type": "code",
   "execution_count": 69,
   "metadata": {},
   "outputs": [
    {
     "name": "stdout",
     "output_type": "stream",
     "text": [
      "Digite o salário do funcionário: 1600\n"
     ]
    }
   ],
   "source": [
    "Salario = round(float(input(\"Digite o salário do funcionário: \")),2)"
   ]
  },
  {
   "cell_type": "code",
   "execution_count": 70,
   "metadata": {},
   "outputs": [
    {
     "name": "stdout",
     "output_type": "stream",
     "text": [
      "O salário antes do ajuste era de R$ 1600.0\n",
      "O percentual de aumento aplicado foi de 5%\n",
      "O valor do aumento foi de R$ 80.0\n",
      "O novo salário, após o aumento é de R$ 1680.0\n"
     ]
    }
   ],
   "source": [
    "if Salario > 0 and Salario <= 280:\n",
    "    percentual = str(\"20%\")\n",
    "    aumento = (Salario*1.2)-(Salario)\n",
    "    novo_salario = round(float((Salario*1.2)),2)\n",
    "    \n",
    "elif Salario > 280 and Salario <= 700:\n",
    "    percentual = str(\"15%\")\n",
    "    aumento = round((Salario*1.15)-(Salario),2)\n",
    "    novo_salario = round(float((Salario*1.15)),2)\n",
    "    \n",
    "elif Salario > 700 and Salario <= 1500:\n",
    "    percentual = str(\"10%\")\n",
    "    aumento = round((Salario*1.1)-(Salario),2)\n",
    "    novo_salario = round(float((Salario*1.1)),2)\n",
    "    \n",
    "elif Salario > 1500:\n",
    "    percentual = str(\"5%\")\n",
    "    aumento = round((Salario*1.05)-(Salario),2)\n",
    "    novo_salario = round(float((Salario*1.05)),2)\n",
    "    \n",
    "else:\n",
    "    print(\"Valor de salário inválido\")\n",
    "\n",
    "if Salario >0:\n",
    "    print(f\"O salário antes do ajuste era de R$ {Salario}\")\n",
    "    print(f\"O percentual de aumento aplicado foi de {percentual}\")\n",
    "    print(f\"O valor do aumento foi de R$ {aumento}\")\n",
    "    print(f\"O novo salário, após o aumento é de R$ {novo_salario}\")\n",
    "    "
   ]
  },
  {
   "cell_type": "markdown",
   "metadata": {},
   "source": [
    "### 6 - Faça um Programa que leia um número e exiba o dia correspondente da semana. (1-Domingo, 2- Segunda, etc.), se digitar outro valor deve aparecer valor inválido."
   ]
  },
  {
   "cell_type": "code",
   "execution_count": 72,
   "metadata": {},
   "outputs": [
    {
     "name": "stdout",
     "output_type": "stream",
     "text": [
      "Digite um número de 1 a 7: 5\n"
     ]
    }
   ],
   "source": [
    "dia = input(\"Digite um número de 1 a 7: \")"
   ]
  },
  {
   "cell_type": "code",
   "execution_count": 74,
   "metadata": {},
   "outputs": [
    {
     "data": {
      "text/plain": [
       "'Quinta-Feira'"
      ]
     },
     "execution_count": 74,
     "metadata": {},
     "output_type": "execute_result"
    }
   ],
   "source": [
    "def dia_semana(argumento):\n",
    "    switcher ={\n",
    "        \"1\":\"Domingo\",\n",
    "        \"2\":\"Segunda-Feira\",\n",
    "        \"3\":\"Terça-Feira\",\n",
    "        \"4\":\"Quarta-Feita\",\n",
    "        \"5\":\"Quinta-Feira\",\n",
    "        \"6\":\"Sexta-Feira\",\n",
    "        \"7\":\"Sábado\"\n",
    "    }\n",
    "    return switcher.get(argumento,\"Valor Inválido\")\n",
    "\n",
    "dia_semana(dia)"
   ]
  },
  {
   "cell_type": "markdown",
   "metadata": {},
   "source": [
    "### 7 - Faça um programa que lê as duas notas parciais obtidas por um aluno numa disciplina ao longo de um semestre, e calcule a sua média. A atribuição de conceitos obedece à tabela abaixo:\n",
    "#### Média de Aproveitamento Conceito\n",
    "##### Entre 9.0 e 10.0 A\n",
    "##### Entre 7.5 e 9.0 B\n",
    "##### Entre 6.0 e 7.5 C\n",
    "##### Entre 4.0 e 6.0 D\n",
    "##### Entre 4.0 e zero E\n",
    "#### O algoritmo deve mostrar na tela as notas, a média, o conceito correspondente e a mensagem “APROVADO” se o conceito for A, B ou C ou “REPROVADO” se o conceito for D ou E."
   ]
  },
  {
   "cell_type": "code",
   "execution_count": 75,
   "metadata": {},
   "outputs": [
    {
     "name": "stdout",
     "output_type": "stream",
     "text": [
      "Digite a nota da 1º prova: 65\n",
      "Digite a nota da 2º prova: 80.5\n"
     ]
    }
   ],
   "source": [
    "n1 = float(input(\"Digite a nota da 1º prova: \"))\n",
    "n2 = float(input(\"Digite a nota da 2º prova: \"))"
   ]
  },
  {
   "cell_type": "code",
   "execution_count": 82,
   "metadata": {},
   "outputs": [
    {
     "name": "stdout",
     "output_type": "stream",
     "text": [
      "\n",
      "Média: 72.75 \n",
      "Conceito: A \n",
      "APROVADO\n"
     ]
    }
   ],
   "source": [
    "media = (n1+n2)/2\n",
    "\n",
    "conceito = \"A\"\n",
    "\n",
    "if media <= 4:\n",
    "    conceito = \"E\"\n",
    "    \n",
    "elif media <= 6:\n",
    "    conceito = \"D\"\n",
    "    \n",
    "elif media <= 7.5:\n",
    "    conceito = \"C\"\n",
    "    \n",
    "elif media <= 9:\n",
    "    conceito = \"B\"\n",
    "\n",
    "else:\n",
    "    conceito = \"A\"\n",
    "    \n",
    "def nota_aluno(argumento):\n",
    "    switcher = {\n",
    "        \"A\":\"APROVADO\",\n",
    "        \"B\":\"APROVADO\",\n",
    "        \"C\":\"APROVADO\",\n",
    "        \"D\":\"REPROVADO\",\n",
    "        \"E\":\"REPROVADO\"\n",
    "    }\n",
    "    return switcher.get(argumento,\"Valor inválido\")\n",
    "\n",
    "situacao = nota_aluno(conceito)\n",
    "\n",
    "print(f\"\\nMédia: {media} \\nConceito: {conceito} \\n{situacao}\")"
   ]
  }
 ],
 "metadata": {
  "kernelspec": {
   "display_name": "Python 3",
   "language": "python",
   "name": "python3"
  },
  "language_info": {
   "codemirror_mode": {
    "name": "ipython",
    "version": 3
   },
   "file_extension": ".py",
   "mimetype": "text/x-python",
   "name": "python",
   "nbconvert_exporter": "python",
   "pygments_lexer": "ipython3",
   "version": "3.7.4"
  }
 },
 "nbformat": 4,
 "nbformat_minor": 2
}
