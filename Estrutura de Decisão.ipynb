{
 "cells": [
  {
   "cell_type": "markdown",
   "metadata": {},
   "source": [
    "### 1 - Faça um Programa que peça dois números e imprima o maior deles."
   ]
  },
  {
   "cell_type": "code",
   "execution_count": 5,
   "metadata": {},
   "outputs": [
    {
     "name": "stdout",
     "output_type": "stream",
     "text": [
      "Digite um número: 60\n"
     ]
    }
   ],
   "source": [
    "n1 = float(input(\"Digite um número: \"))"
   ]
  },
  {
   "cell_type": "code",
   "execution_count": 8,
   "metadata": {},
   "outputs": [
    {
     "name": "stdout",
     "output_type": "stream",
     "text": [
      "Digite outro número: 60\n"
     ]
    }
   ],
   "source": [
    "n2 = float(input(\"Digite outro número: \"))"
   ]
  },
  {
   "cell_type": "code",
   "execution_count": 9,
   "metadata": {},
   "outputs": [
    {
     "name": "stdout",
     "output_type": "stream",
     "text": [
      "Os números digitados são iguais\n"
     ]
    }
   ],
   "source": [
    "if n1 > n2:\n",
    "    print(f\"O maior número digitado foi o {n1}\")\n",
    "elif n2>n1:\n",
    "    print(f\"O maior número digitado foi o {n2}\")\n",
    "else:\n",
    "    print(f\"Os números digitados são iguais\")"
   ]
  },
  {
   "cell_type": "markdown",
   "metadata": {},
   "source": [
    "### 2 - Faça um Programa que peça um valor e mostre na tela se o valor é positivo ou negativo."
   ]
  },
  {
   "cell_type": "code",
   "execution_count": 18,
   "metadata": {},
   "outputs": [
    {
     "name": "stdout",
     "output_type": "stream",
     "text": [
      "Digite um número: -12\n"
     ]
    }
   ],
   "source": [
    "x = float(input(\"Digite um número: \"))"
   ]
  },
  {
   "cell_type": "code",
   "execution_count": 20,
   "metadata": {},
   "outputs": [
    {
     "name": "stdout",
     "output_type": "stream",
     "text": [
      "O número -12.0 é negativo\n"
     ]
    }
   ],
   "source": [
    "if x>0:\n",
    "    print(f\"O número {x} é positivo\")\n",
    "elif x<0:\n",
    "    print(f\"O número {x} é negativo\")\n",
    "else:\n",
    "    print(f\"O número {x} é nulo\")"
   ]
  },
  {
   "cell_type": "markdown",
   "metadata": {},
   "source": [
    "### 3 - Faça um Programa que verifique se uma letra digitada é vogal ou consoante.¶"
   ]
  },
  {
   "cell_type": "code",
   "execution_count": 38,
   "metadata": {},
   "outputs": [
    {
     "name": "stdout",
     "output_type": "stream",
     "text": [
      "Digite uma letra: H\n"
     ]
    }
   ],
   "source": [
    "letra = str(input(\"Digite uma letra: \"))"
   ]
  },
  {
   "cell_type": "code",
   "execution_count": 40,
   "metadata": {},
   "outputs": [
    {
     "name": "stdout",
     "output_type": "stream",
     "text": [
      "A letra H é uma consoante\n"
     ]
    }
   ],
   "source": [
    "letra2 = letra.lower()\n",
    "\n",
    "if len(letra2) > 1:\n",
    "    print(\"Digite apenas uma letra\")\n",
    "elif len(letra2) == 1 :\n",
    "    vogal = \"aeiou\"\n",
    "    consoante = \"bcçdfghjklmnpqrstvwxyz\"\n",
    "    \n",
    "    if letra2 in vogal:\n",
    "        print(f\"A letra {letra} é uma vogal\")\n",
    "    elif letra2 in consoante:\n",
    "        print(f\"A letra {letra} é uma consoante\")\n",
    "    else:\n",
    "        print(f\"Não foi digitado uma letra\")\n",
    "else:\n",
    "    print(\"Digite uma letra\")"
   ]
  },
  {
   "cell_type": "markdown",
   "metadata": {},
   "source": [
    "### 4 - Faça um programa que pergunte o preço de três produtos e informe qual produto você deve comprar, sabendo que a decisão é sempre pelo mais barato."
   ]
  },
  {
   "cell_type": "code",
   "execution_count": 41,
   "metadata": {},
   "outputs": [
    {
     "name": "stdout",
     "output_type": "stream",
     "text": [
      "Inflorme o preço do produto 1: 10\n",
      "Inflorme o preço do produto 2: 30.50\n",
      "Inflorme o preço do produto 3: 7.50\n"
     ]
    }
   ],
   "source": [
    "p1 = float(input(\"Inflorme o preço do produto 1: \"))\n",
    "p2 = float(input(\"Inflorme o preço do produto 2: \"))\n",
    "p3 = float(input(\"Inflorme o preço do produto 3: \"))"
   ]
  },
  {
   "cell_type": "code",
   "execution_count": 43,
   "metadata": {},
   "outputs": [
    {
     "name": "stdout",
     "output_type": "stream",
     "text": [
      "Você deve comprar o produto de valor R$ 7.5\n"
     ]
    }
   ],
   "source": [
    "menor = p1\n",
    "\n",
    "if p2 < menor:\n",
    "    menor = p2\n",
    "if p3 < menor:\n",
    "    menor = p3\n",
    "\n",
    "print(f\"Você deve comprar o produto de valor R$ {menor}\")"
   ]
  },
  {
   "cell_type": "markdown",
   "metadata": {},
   "source": [
    "### 5 - Uma empresa resolveu dar um aumento de salário aos seus colaboradores e lhe contratou para desenvolver o programa que calculará os reajustes.\n",
    "### Faça um programa que recebe o salário de um colaborador e o reajuste segundo o seguinte critério, baseado no salário atual:\n",
    "##### salários até RS 280,00 (incluindo) : aumento de 20%\n",
    "##### salários entre RS 280,00 e RS 700,00 : aumento de 15%\n",
    "##### salários entre RS 700,00 e RS 1500,00 : aumento de 10%\n",
    "##### salários de RS 1500,00 em diante : aumento de 5% Após o aumento ser realizado, informe na tela:\n",
    "##### o salário antes do reajuste;\n",
    "##### o percentual de aumento aplicado;\n",
    "##### o valor do aumento;\n",
    "##### o novo salário, após o aumento."
   ]
  },
  {
   "cell_type": "code",
   "execution_count": 69,
   "metadata": {},
   "outputs": [
    {
     "name": "stdout",
     "output_type": "stream",
     "text": [
      "Digite o salário do funcionário: 1600\n"
     ]
    }
   ],
   "source": [
    "Salario = round(float(input(\"Digite o salário do funcionário: \")),2)"
   ]
  },
  {
   "cell_type": "code",
   "execution_count": 70,
   "metadata": {},
   "outputs": [
    {
     "name": "stdout",
     "output_type": "stream",
     "text": [
      "O salário antes do ajuste era de R$ 1600.0\n",
      "O percentual de aumento aplicado foi de 5%\n",
      "O valor do aumento foi de R$ 80.0\n",
      "O novo salário, após o aumento é de R$ 1680.0\n"
     ]
    }
   ],
   "source": [
    "if Salario > 0 and Salario <= 280:\n",
    "    percentual = str(\"20%\")\n",
    "    aumento = (Salario*1.2)-(Salario)\n",
    "    novo_salario = round(float((Salario*1.2)),2)\n",
    "    \n",
    "elif Salario > 280 and Salario <= 700:\n",
    "    percentual = str(\"15%\")\n",
    "    aumento = round((Salario*1.15)-(Salario),2)\n",
    "    novo_salario = round(float((Salario*1.15)),2)\n",
    "    \n",
    "elif Salario > 700 and Salario <= 1500:\n",
    "    percentual = str(\"10%\")\n",
    "    aumento = round((Salario*1.1)-(Salario),2)\n",
    "    novo_salario = round(float((Salario*1.1)),2)\n",
    "    \n",
    "elif Salario > 1500:\n",
    "    percentual = str(\"5%\")\n",
    "    aumento = round((Salario*1.05)-(Salario),2)\n",
    "    novo_salario = round(float((Salario*1.05)),2)\n",
    "    \n",
    "else:\n",
    "    print(\"Valor de salário inválido\")\n",
    "\n",
    "if Salario >0:\n",
    "    print(f\"O salário antes do ajuste era de R$ {Salario}\")\n",
    "    print(f\"O percentual de aumento aplicado foi de {percentual}\")\n",
    "    print(f\"O valor do aumento foi de R$ {aumento}\")\n",
    "    print(f\"O novo salário, após o aumento é de R$ {novo_salario}\")\n",
    "    "
   ]
  },
  {
   "cell_type": "markdown",
   "metadata": {},
   "source": [
    "### 6 - Faça um Programa que leia um número e exiba o dia correspondente da semana. (1-Domingo, 2- Segunda, etc.), se digitar outro valor deve aparecer valor inválido."
   ]
  },
  {
   "cell_type": "code",
   "execution_count": 72,
   "metadata": {},
   "outputs": [
    {
     "name": "stdout",
     "output_type": "stream",
     "text": [
      "Digite um número de 1 a 7: 5\n"
     ]
    }
   ],
   "source": [
    "dia = input(\"Digite um número de 1 a 7: \")"
   ]
  },
  {
   "cell_type": "code",
   "execution_count": 74,
   "metadata": {},
   "outputs": [
    {
     "data": {
      "text/plain": [
       "'Quinta-Feira'"
      ]
     },
     "execution_count": 74,
     "metadata": {},
     "output_type": "execute_result"
    }
   ],
   "source": [
    "def dia_semana(argumento):\n",
    "    switcher ={\n",
    "        \"1\":\"Domingo\",\n",
    "        \"2\":\"Segunda-Feira\",\n",
    "        \"3\":\"Terça-Feira\",\n",
    "        \"4\":\"Quarta-Feita\",\n",
    "        \"5\":\"Quinta-Feira\",\n",
    "        \"6\":\"Sexta-Feira\",\n",
    "        \"7\":\"Sábado\"\n",
    "    }\n",
    "    return switcher.get(argumento,\"Valor Inválido\")\n",
    "\n",
    "dia_semana(dia)"
   ]
  },
  {
   "cell_type": "markdown",
   "metadata": {},
   "source": [
    "### 7 - Faça um programa que lê as duas notas parciais obtidas por um aluno numa disciplina ao longo de um semestre, e calcule a sua média. A atribuição de conceitos obedece à tabela abaixo:\n",
    "#### Média de Aproveitamento Conceito\n",
    "##### Entre 9.0 e 10.0 A\n",
    "##### Entre 7.5 e 9.0 B\n",
    "##### Entre 6.0 e 7.5 C\n",
    "##### Entre 4.0 e 6.0 D\n",
    "##### Entre 4.0 e zero E\n",
    "#### O algoritmo deve mostrar na tela as notas, a média, o conceito correspondente e a mensagem “APROVADO” se o conceito for A, B ou C ou “REPROVADO” se o conceito for D ou E."
   ]
  },
  {
   "cell_type": "code",
   "execution_count": 75,
   "metadata": {},
   "outputs": [
    {
     "name": "stdout",
     "output_type": "stream",
     "text": [
      "Digite a nota da 1º prova: 65\n",
      "Digite a nota da 2º prova: 80.5\n"
     ]
    }
   ],
   "source": [
    "n1 = float(input(\"Digite a nota da 1º prova: \"))\n",
    "n2 = float(input(\"Digite a nota da 2º prova: \"))"
   ]
  },
  {
   "cell_type": "code",
   "execution_count": 82,
   "metadata": {},
   "outputs": [
    {
     "name": "stdout",
     "output_type": "stream",
     "text": [
      "\n",
      "Média: 72.75 \n",
      "Conceito: A \n",
      "APROVADO\n"
     ]
    }
   ],
   "source": [
    "media = (n1+n2)/2\n",
    "\n",
    "conceito = \"A\"\n",
    "\n",
    "if media <= 4:\n",
    "    conceito = \"E\"\n",
    "    \n",
    "elif media <= 6:\n",
    "    conceito = \"D\"\n",
    "    \n",
    "elif media <= 7.5:\n",
    "    conceito = \"C\"\n",
    "    \n",
    "elif media <= 9:\n",
    "    conceito = \"B\"\n",
    "\n",
    "else:\n",
    "    conceito = \"A\"\n",
    "    \n",
    "def nota_aluno(argumento):\n",
    "    switcher = {\n",
    "        \"A\":\"APROVADO\",\n",
    "        \"B\":\"APROVADO\",\n",
    "        \"C\":\"APROVADO\",\n",
    "        \"D\":\"REPROVADO\",\n",
    "        \"E\":\"REPROVADO\"\n",
    "    }\n",
    "    return switcher.get(argumento,\"Valor inválido\")\n",
    "\n",
    "situacao = nota_aluno(conceito)\n",
    "\n",
    "print(f\"\\nMédia: {media} \\nConceito: {conceito} \\n{situacao}\")"
   ]
  },
  {
   "cell_type": "markdown",
   "metadata": {},
   "source": [
    "### 8 - Faça um Programa que peça os 3 lados de um triângulo. O programa deverá informar se os valores podem ser um triângulo. Indique, caso os lados formem um triângulo, se o mesmo é: equilátero, isósceles ou escaleno.\n",
    "#### Dicas:\n",
    "##### Três lados formam um triângulo quando a soma de quaisquer dois lados for maior que o terceiro;\n",
    "##### Triângulo Equilátero: três lados iguais;\n",
    "##### Triângulo Isósceles: quaisquer dois lados iguais;\n",
    "##### Triângulo Escaleno: três lados diferentes;"
   ]
  },
  {
   "cell_type": "code",
   "execution_count": 29,
   "metadata": {},
   "outputs": [
    {
     "name": "stdout",
     "output_type": "stream",
     "text": [
      "Digite o 1º lado do triângulo: 40\n",
      "Digite o 2º lado do triângulo: 50\n",
      "Digite o 3º lado do triângulo: 40\n"
     ]
    }
   ],
   "source": [
    "try:\n",
    "    \n",
    "    l1 = float(input(\"Digite o 1º lado do triângulo: \"))\n",
    "    l2 = float(input(\"Digite o 2º lado do triângulo: \"))\n",
    "    l3 = float(input(\"Digite o 3º lado do triângulo: \"))\n",
    "    \n",
    "except ValueError:\n",
    "    print(\"ERRO: Digite apenas números\")"
   ]
  },
  {
   "cell_type": "code",
   "execution_count": 30,
   "metadata": {},
   "outputs": [
    {
     "name": "stdout",
     "output_type": "stream",
     "text": [
      "Triângulo Isóceles\n"
     ]
    }
   ],
   "source": [
    "if l1<=0 or l2<=0 or l3<=0:\n",
    "    print(\"Não são permitidos valores nulos ou negativos para os lados do triângulo\")\n",
    "else:\n",
    "    if l1+l2>l3 and l1+l3>l2 and l2+l3>l1:\n",
    "\n",
    "        if l1==l2==l3:\n",
    "            print(\"Triângulo Equilátero\")\n",
    "        elif l1==l2 or l1==l3 or l3==l2:\n",
    "            print(\"Triângulo Isóceles\")\n",
    "        else:\n",
    "            print(\"Triângulo Escaleno\")\n",
    "    else:\n",
    "        print(\"Não pode ser formado um triângulo com os lados fornecidos\")"
   ]
  },
  {
   "cell_type": "markdown",
   "metadata": {},
   "source": [
    "### 9 - Faça um Programa que peça uma data no formato dd/mm/aaaa e determine se a mesma é uma data válida."
   ]
  },
  {
   "cell_type": "code",
   "execution_count": 42,
   "metadata": {},
   "outputs": [
    {
     "name": "stdout",
     "output_type": "stream",
     "text": [
      "Digite uma data (dd/mm/aaaa): 31/12/2021\n",
      "31/12/2021\n"
     ]
    }
   ],
   "source": [
    "from datetime import date, datetime\n",
    "try:\n",
    "    data = input(\"Digite uma data (dd/mm/aaaa): \")\n",
    "    data2 = datetime.strptime(data,\"%d/%m/%Y\")\n",
    "    print(\"{}/{}/{}\".format(data2.day, data2.month, data2.year))\n",
    "except TypeError:\n",
    "    print(\"Data digitada em formato incorreto\")\n",
    "except ValueError:\n",
    "    print(\"Data digitada em formato incorreto\")"
   ]
  },
  {
   "cell_type": "markdown",
   "metadata": {},
   "source": [
    "### 10 - Faça um Programa que leia um número inteiro menor que 1000 e imprima a quantidade de centenas, dezenas e unidades do mesmo.\n",
    "#### Observando os termos no plural a colocação do \"e\", da vírgula entre outros. Exemplo:\n",
    "##### 326 = 3 centenas, 2 dezenas e 6 unidades"
   ]
  },
  {
   "cell_type": "code",
   "execution_count": 62,
   "metadata": {},
   "outputs": [
    {
     "name": "stdout",
     "output_type": "stream",
     "text": [
      "Digite um número inteiro menor que 1.000 e maior que 0: 111\n",
      "\n",
      "O número 111 tem:\n",
      "1 centena, 1 dezena e 1 unidade\n"
     ]
    }
   ],
   "source": [
    "try:\n",
    "    n1 = int(input(\"Digite um número inteiro menor que 1.000 e maior que 0: \"))\n",
    "\n",
    "    if n1 >= 1000:\n",
    "        print(\"O número digitado é inválido (maior que 1.000)\")\n",
    "\n",
    "    elif n1 <= 0:\n",
    "        print(\"O número digitado é inválido (menor ou igual a 0)\")\n",
    "\n",
    "    else:\n",
    "        cen = int(n1/100)\n",
    "        dez = int((n1%100)/10)\n",
    "        uni = (n1%10)\n",
    "\n",
    "        cent = \"centena\" if cen == 1 else \"centenas\"\n",
    "        deze = \"dezena\" if dez == 1 else \"dezenas\"\n",
    "        unid = \"unidade\" if uni == 1 else \"unidades\"\n",
    "\n",
    "        print (f\"\\nO número {n1} tem:\\n{cen} {cent}, {dez} {deze} e {uni} {unid}\")\n",
    "\n",
    "except ValueError:\n",
    "    print(\"O valor digitado não é um número\")"
   ]
  },
  {
   "cell_type": "markdown",
   "metadata": {},
   "source": [
    "### 11 - Faça um Programa para um caixa eletrônico. O programa deverá perguntar ao usuário a valor do saque e depois informar quantas notas de cada valor serão fornecidas. As notas disponíveis serão as de 1, 5, 10, 50 e 100 reais. O valor mínimo é de 10 reais e o máximo de 600 reais. O programa não deve se preocupar com a quantidade de notas existentes na máquina.\n",
    "#### a) Exemplo 1: Para sacar a quantia de 256 reais, o programa fornece duas notas de 100, uma nota de 50, uma nota de 5 e uma nota de 1;\n",
    "#### b) Exemplo 2: Para sacar a quantia de 399 reais, o programa fornece três notas de 100, uma nota de 50, quatro notas de 10, uma nota de 5 e quatro notas de 1."
   ]
  },
  {
   "cell_type": "code",
   "execution_count": 61,
   "metadata": {},
   "outputs": [
    {
     "name": "stdout",
     "output_type": "stream",
     "text": [
      "Bem vindo ao caixa eletrônico, o valor minimo de saque é de R$10,00 e máximo de R$600,00\n",
      "Qual valor deseja sacar? 399\n"
     ]
    }
   ],
   "source": [
    "try:\n",
    "    print(\"Bem vindo ao caixa eletrônico, o valor minimo de saque é de R$10,00 e máximo de R$600,00\")\n",
    "    saque = int(input(\"Qual valor deseja sacar? \"))\n",
    "    \n",
    "    if saque < 10 or saque >600:\n",
    "        saque = 0\n",
    "        print (\"\\nValor de saque indisponivel, o valor minimo de saque é de R$10,00 e máximo de R$600,00\")\n",
    "    else:\n",
    "        saque == saque\n",
    "\n",
    "except ValueError:\n",
    "    saque = -1\n",
    "    print(\"\\nDesculpe, apenas valores inteiros são aceitos. Digite novamente um valor de saque\")"
   ]
  },
  {
   "cell_type": "code",
   "execution_count": 62,
   "metadata": {},
   "outputs": [
    {
     "name": "stdout",
     "output_type": "stream",
     "text": [
      "Notas de R$ 100: 3\n",
      "Notas de R$ 50: 1\n",
      "Notas de R$ 10: 4\n",
      "Notas de R$ 5: 1\n",
      "Notas de R$ 1: 4\n"
     ]
    }
   ],
   "source": [
    "if saque == 0 or saque == -1:\n",
    "    print(\"Valor de saque indisponivel\")\n",
    "else:\n",
    "    nota100 = int(saque/100)\n",
    "    nota50 = int((saque%100)/50)\n",
    "    nota10 = int((saque%100)/10)\n",
    "    nota5 = int((saque%10)/5)\n",
    "    nota1 = int(saque%10)\n",
    "    \n",
    "    if nota10 >=5 : nota10 = (nota10-5)\n",
    "    if nota5 >=2 : nota5 = (nota5-2)\n",
    "    if nota1 >=5 : nota1 = (nota1-5)        \n",
    "        \n",
    "    print(f\"Notas de R$ 100: {nota100}\\nNotas de R$ 50: {nota50}\\nNotas de R$ 10: {nota10}\\nNotas de R$ 5: {nota5}\\nNotas de R$ 1: {nota1}\")\n",
    "    \n"
   ]
  },
  {
   "cell_type": "markdown",
   "metadata": {},
   "source": [
    "### 12 - Faça um programa que faça 5 perguntas para uma pessoa sobre um crime. As perguntas são:\n",
    "#### a) \"Telefonou para a vítima?\"\n",
    "#### b) \"Esteve no local do crime?\"\n",
    "#### c) \"Mora perto da vítima?\"\n",
    "#### d) \"Devia para a vítima?\"\n",
    "#### e) \"Já trabalhou com a vítima?\"\n",
    "##### O programa deve no final emitir uma classificação sobre a participação da pessoa no crime. Se a pessoa responder positivamente a 2 questões ela deve ser classificada como \"Suspeita\", entre 3 e 4 como \"Cúmplice\" e 5 como \"Assassino\". Caso contrário, ele será classificado como \"Inocente\".¶"
   ]
  },
  {
   "cell_type": "code",
   "execution_count": 1,
   "metadata": {},
   "outputs": [
    {
     "name": "stdout",
     "output_type": "stream",
     "text": [
      "Pelas suas respostas, você foi considerado:\u001b[92m INOCENTE\n"
     ]
    }
   ],
   "source": [
    "from IPython.display import clear_output\n",
    "\n",
    "\n",
    "def entrada():\n",
    "    x = False\n",
    "    while x == False:\n",
    "        n = str(input())\n",
    "        if n == \"Sim\" or n == \"sim\":\n",
    "            z = 1\n",
    "            x = True\n",
    "        elif n == \"Não\" or n == \"não\" or n== \"nao\" or n== \"Nao\":\n",
    "            z = 0\n",
    "            x = True\n",
    "        else:\n",
    "            print(\"Digite apenas \\033[4mSim/Não\")\n",
    "            x = False\n",
    "    clear_output()\n",
    "    return z\n",
    "\n",
    "def perguntas():\n",
    "    pontos = 0\n",
    "    print(\"Serão feitas cinco perguntas sobre um crime. Digite \\033[1m Não \\033[0m para negativo e \\033[1m Sim \\033[0m para positivo\\n\\n 1) Telefonou para a vítima? \")\n",
    "    pontos += entrada()\n",
    "    print(\"Serão feitas cinco perguntas sobre um crime. Digite \\033[1m Não \\033[0m para negativo e \\033[1m Sim \\033[0m para positivo\\n\\n 2) Esteve no local do crime? \")\n",
    "    pontos += entrada()\n",
    "    print(\"Serão feitas cinco perguntas sobre um crime. Digite \\033[1m Não \\033[0m para negativo e \\033[1m Sim \\033[0m para positivo\\n\\n 3) Mora perto da vítima? \")\n",
    "    pontos += entrada()\n",
    "    print(\"Serão feitas cinco perguntas sobre um crime. Digite \\033[1m Não \\033[0m para negativo e \\033[1m Sim \\033[0m para positivo\\n\\n 4) Devia para a vítima? \")\n",
    "    pontos += entrada()\n",
    "    print(\"Serão feitas cinco perguntas sobre um crime. Digite \\033[1m Não \\033[0m para negativo e \\033[1m Sim \\033[0m para positivo\\n\\n 5) Já trabalhou com a vítima? \")\n",
    "    pontos += entrada()\n",
    "\n",
    "    return pontos\n",
    "\n",
    "pontos = perguntas()\n",
    "\n",
    "if pontos < 2:\n",
    "    print(\"Pelas suas respostas, você foi considerado:\\033[92m INOCENTE\")\n",
    "elif pontos == 2:\n",
    "    print(\"Pelas suas respostas, você foi considerado:\\033[93m SUSPEITO\")\n",
    "elif pontos == 3 or pontos == 4:\n",
    "    print(\"Pelas suas respostas, você foi considerado:\\033[36m CÚMPLICE\")\n",
    "else:\n",
    "    print(\"Pelas suas respostas, você foi considerado:\\033[91m ASSASSINO\") "
   ]
  },
  {
   "cell_type": "markdown",
   "metadata": {},
   "source": [
    "### 13 - Um posto está vendendo combustíveis com a seguinte tabela de descontos:\n",
    "#### a) Álcool:\n",
    "#### b) até 20 litros, desconto de 3% por litro\n",
    "#### c) acima de 20 litros, desconto de 5% por litro\n",
    "#### d) Gasolina:\n",
    "#### e) até 20 litros, desconto de 4% por litro\n",
    "#### f) acima de 20 litros, desconto de 6% por litro\n",
    "##### Escreva um algoritmo que leia o número de litros vendidos, o tipo de combustível (codificado da seguinte forma: A-álcool, G-gasolina), calcule e imprima o valor a ser pago pelo cliente sabendo-se que o preço do litro da gasolina é RS 2,50 o preço do litro do álcool é RS 1,90.¶"
   ]
  },
  {
   "cell_type": "code",
   "execution_count": 3,
   "metadata": {},
   "outputs": [
    {
     "name": "stdout",
     "output_type": "stream",
     "text": [
      "Para o combustivel: GASOLINA\n",
      "Abastecendo: 1.0L\n",
      "Gastará: R$2.4\n"
     ]
    }
   ],
   "source": [
    "from IPython.display import clear_output\n",
    "\n",
    "def Tipo_Combustivel():\n",
    "    x = False\n",
    "    \n",
    "    while x == False:\n",
    "        print(\"Qual o seu tipo de Combustivel?\\n\\nOpções:\\nÁlcool ou Gasolina\")\n",
    "        Tipo_Combustivel = str(input()).upper()\n",
    "        if Tipo_Combustivel == \"ÁLCOOL\" or Tipo_Combustivel == \"ALCOOL\":\n",
    "            z = \"ÁLCOOL\"\n",
    "            x = True\n",
    "        elif Tipo_Combustivel == \"GASOLINA\":\n",
    "            z = \"GASOLINA\"\n",
    "            x = True\n",
    "        else:\n",
    "            clear_output()\n",
    "            print(\"\\033[1mApenas as opções: Álcool ou Gasolina são aceitas\\n\\033[0m\")\n",
    "            x = False\n",
    "    clear_output()\n",
    "    return z\n",
    "\n",
    "\n",
    "def Litros_Combustivel():\n",
    "    x = False\n",
    "    \n",
    "    while x == False:\n",
    "        print(\"Quantos litros gostaria de abastecer? (Para decimal, utilizar . ao invez de ,)\")\n",
    "        litros = float(input())\n",
    "        if litros > 0 :\n",
    "            x = True\n",
    "        else:\n",
    "            clear_output()\n",
    "            print(\"\\033[1mPor favor, digite apenas números positivos\\033[0m\\n\")\n",
    "            x = False\n",
    "    return litros\n",
    "    \n",
    "\n",
    "def Gasto_Combustivel():\n",
    "    x = False\n",
    "        \n",
    "    while x == False:\n",
    "        if Tipo_Combustivel == \"ÁLCOOL\" : \n",
    "            if Litros_Combustivel > 20 :\n",
    "                gasto = round(((Litros_Combustivel * 1.9) * 0.95),2)\n",
    "                x = True\n",
    "            if Litros_Combustivel <= 20 and Litros_Combustivel > 0 :\n",
    "                gasto = round(((Litros_Combustivel * 1.9) * 0.97),2)\n",
    "                x = True\n",
    "\n",
    "                \n",
    "        if Tipo_Combustivel == \"GASOLINA\" : \n",
    "            if Litros_Combustivel > 20 :\n",
    "                gasto = round(((Litros_Combustivel * 2.5) * 0.94),2)\n",
    "                x = True\n",
    "            if Litros_Combustivel <=20 and Litros_Combustivel > 0 :\n",
    "                gasto = round(((Litros_Combustivel *2.5) * 0.96),2)\n",
    "                x = True\n",
    "\n",
    "    clear_output()\n",
    "    return gasto\n",
    "\n",
    "\n",
    "Tipo_Combustivel = Tipo_Combustivel()\n",
    "Litros_Combustivel = Litros_Combustivel()\n",
    "Gasto_Combustivel = Gasto_Combustivel()\n",
    "\n",
    "print(f\"Para o combustivel: {Tipo_Combustivel}\\nAbastecendo: {Litros_Combustivel}L\\nGastará: R${Gasto_Combustivel}\")"
   ]
  },
  {
   "cell_type": "markdown",
   "metadata": {},
   "source": [
    "### 14 - Um Hipermercado está com uma promoção de carnes que é imperdível. Confira:\n",
    "#### Até 5 Kg Acima de 5 Kg\n",
    "#### File Duplo RS 4,90 por Kg RS 5,80 por Kg\n",
    "#### Alcatra RS 5,90 por Kg RS 6,80 por Kg\n",
    "#### Picanha RS 6,90 por Kg RS 7,80 por Kg\n",
    "##### Para atender a todos os clientes, cada cliente poderá levar apenas um dos tipos de carne da promoção, porém não há limites para a quantidade de carne por cliente. Se compra for feita no cartão do hipermercado o cliente receberá ainda um desconto de 5% sobre o total da compra. Escreva um programa que peça o tipo e a quantidade de carne comprada pelo usuário e gere um cupom fiscal, contendo as informações da compra: tipo e quantidade de carne, preço total, tipo de pagamento, valor do desconto e valor a pagar.¶"
   ]
  }
 ],
 "metadata": {
  "kernelspec": {
   "display_name": "Python 3",
   "language": "python",
   "name": "python3"
  },
  "language_info": {
   "codemirror_mode": {
    "name": "ipython",
    "version": 3
   },
   "file_extension": ".py",
   "mimetype": "text/x-python",
   "name": "python",
   "nbconvert_exporter": "python",
   "pygments_lexer": "ipython3",
   "version": "3.7.4"
  }
 },
 "nbformat": 4,
 "nbformat_minor": 2
}
