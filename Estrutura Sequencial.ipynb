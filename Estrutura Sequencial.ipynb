{
 "cells": [
  {
   "cell_type": "markdown",
   "metadata": {},
   "source": [
    "### 1 - Faça um Programa que peça um número e então mostre a mensagem: O número informado foi ___."
   ]
  },
  {
   "cell_type": "code",
   "execution_count": 5,
   "metadata": {},
   "outputs": [
    {
     "name": "stdout",
     "output_type": "stream",
     "text": [
      "Digite um número43\n"
     ]
    }
   ],
   "source": [
    "Número = input(\"Digite um número\")"
   ]
  },
  {
   "cell_type": "code",
   "execution_count": 6,
   "metadata": {},
   "outputs": [
    {
     "name": "stdout",
     "output_type": "stream",
     "text": [
      "O número digitado foi o 43\n"
     ]
    }
   ],
   "source": [
    "print(f\"O número digitado foi o {Número}\")"
   ]
  },
  {
   "cell_type": "markdown",
   "metadata": {},
   "source": [
    "### 2 - Faça um Programa que peça dois números e imprima a soma."
   ]
  },
  {
   "cell_type": "code",
   "execution_count": 12,
   "metadata": {},
   "outputs": [
    {
     "name": "stdout",
     "output_type": "stream",
     "text": [
      "Digite o 1º número: 1\n"
     ]
    }
   ],
   "source": [
    "n1 = input(\"Digite o 1º número: \")"
   ]
  },
  {
   "cell_type": "code",
   "execution_count": 13,
   "metadata": {},
   "outputs": [
    {
     "name": "stdout",
     "output_type": "stream",
     "text": [
      "Digite o 2º número: 3\n"
     ]
    }
   ],
   "source": [
    "n2 = input(\"Digite o 2º número: \")"
   ]
  },
  {
   "cell_type": "code",
   "execution_count": 14,
   "metadata": {},
   "outputs": [
    {
     "name": "stdout",
     "output_type": "stream",
     "text": [
      "A soma de 1 com 3 é 13\n"
     ]
    }
   ],
   "source": [
    "soma = n1+n2\n",
    "print(f\"A soma de {n1} com {n2} é {soma}\")"
   ]
  },
  {
   "cell_type": "markdown",
   "metadata": {},
   "source": [
    "### 3- Faça um Programa que peça as 3 notas de prova de um aluno, mostre a média e se ele foi aprovado ou não ( considere para aprovação média iguai ou superior a 60 )."
   ]
  },
  {
   "cell_type": "code",
   "execution_count": 19,
   "metadata": {},
   "outputs": [
    {
     "name": "stdout",
     "output_type": "stream",
     "text": [
      "Nota da 1º prova: 60.9\n"
     ]
    }
   ],
   "source": [
    "nota1 = float(input(\"Nota da 1º prova: \"))"
   ]
  },
  {
   "cell_type": "code",
   "execution_count": 20,
   "metadata": {},
   "outputs": [
    {
     "name": "stdout",
     "output_type": "stream",
     "text": [
      "Nota da 2º prova: 70.5\n"
     ]
    }
   ],
   "source": [
    "nota2 = float(input(\"Nota da 2º prova: \"))"
   ]
  },
  {
   "cell_type": "code",
   "execution_count": 21,
   "metadata": {},
   "outputs": [
    {
     "name": "stdout",
     "output_type": "stream",
     "text": [
      "Nota da 3º proba: 90.7\n"
     ]
    }
   ],
   "source": [
    "nota3 = float(input(\"Nota da 3º proba: \"))"
   ]
  },
  {
   "cell_type": "code",
   "execution_count": 22,
   "metadata": {},
   "outputs": [
    {
     "name": "stdout",
     "output_type": "stream",
     "text": [
      "A nota média do aluno foi de 74.03 prontos\n",
      "Aluno aprovado\n"
     ]
    }
   ],
   "source": [
    "média = round((nota1+nota2+nota3)/3,2)\n",
    "print(f\"A nota média do aluno foi de {média} prontos\")\n",
    "\n",
    "if média >= 60:\n",
    "    print(\"Aluno aprovado\")\n",
    "else:\n",
    "    print(\"Aluno não aprovado\")"
   ]
  },
  {
   "cell_type": "markdown",
   "metadata": {},
   "source": [
    "### 4 - Faça um Programa que pergunte quanto você ganha por mês e o número de horas trabalhadas. Calcule e mostre o total do seu salário ganho por hora."
   ]
  },
  {
   "cell_type": "code",
   "execution_count": 49,
   "metadata": {},
   "outputs": [
    {
     "name": "stdout",
     "output_type": "stream",
     "text": [
      "Qual o seu salario bruto mensal? 2500\n"
     ]
    }
   ],
   "source": [
    "salario_mes = float(input(\"Qual o seu salario bruto mensal? \"))"
   ]
  },
  {
   "cell_type": "code",
   "execution_count": 24,
   "metadata": {},
   "outputs": [
    {
     "name": "stdout",
     "output_type": "stream",
     "text": [
      "Quantas horas você trabalha por dia? 8\n"
     ]
    }
   ],
   "source": [
    "horas_trabalhadas = int(input(\"Quantas horas você trabalha por dia? \"))"
   ]
  },
  {
   "cell_type": "code",
   "execution_count": 54,
   "metadata": {},
   "outputs": [
    {
     "name": "stdout",
     "output_type": "stream",
     "text": [
      "Você ganha R$14.88 bruto por hora\n",
      " \n",
      "IR (11%) = R$275.0\n",
      "INSS (8%) = R$200.0\n",
      "Você ganha R$12.05 líquido por hora\n"
     ]
    }
   ],
   "source": [
    "salario_hora_bruto = round(salario_mes/(21*horas_trabalhadas),2)\n",
    "print(f\"Você ganha R${salario_hora_bruto} bruto por hora\")\n",
    "print(\" \")\n",
    "\n",
    "IR = round(float(salario_mes*0.11),2)\n",
    "INSS = round(float(salario_mes*0.08),2)\n",
    "salario_hora_liquido = round(float((salario_mes-IR-INSS)/(21*horas_trabalhadas)),2)\n",
    "print(f\"IR (11%) = R${IR}\")\n",
    "print(f\"INSS (8%) = R${INSS}\")\n",
    "print(f\"Você ganha R${salario_hora_liquido} líquido por hora\")\n"
   ]
  },
  {
   "cell_type": "markdown",
   "metadata": {},
   "source": [
    "### 5 - Tendo como dado de entrada a altura (h) de uma pessoa, construa um algoritmo que calcule seu peso ideal, para homens e mulheres:"
   ]
  },
  {
   "cell_type": "code",
   "execution_count": 44,
   "metadata": {},
   "outputs": [
    {
     "name": "stdout",
     "output_type": "stream",
     "text": [
      "Você é do sexo Masculino ou Feminino? Masculino\n"
     ]
    }
   ],
   "source": [
    "sexo = str(input(\"Você é do sexo Masculino ou Feminino? \"))"
   ]
  },
  {
   "cell_type": "code",
   "execution_count": 32,
   "metadata": {},
   "outputs": [
    {
     "name": "stdout",
     "output_type": "stream",
     "text": [
      "Qual a sua altura? (em metros) 1.77\n"
     ]
    }
   ],
   "source": [
    "altura = float(input(\"Qual a sua altura? (em metros) \"))"
   ]
  },
  {
   "cell_type": "code",
   "execution_count": 47,
   "metadata": {},
   "outputs": [
    {
     "name": "stdout",
     "output_type": "stream",
     "text": [
      " Para um homem de 1.77m, seu peso ideal é de 70.68 kg\n"
     ]
    }
   ],
   "source": [
    "if sexo == \"Masculino\" :\n",
    "    peso_ideal = round(float((altura*72.7)-58),2)\n",
    "    print(f\" Para um homem de {altura}m, seu peso ideal é de {peso_ideal} kg\")\n",
    "    \n",
    "elif sexo == \"Feminino\" :\n",
    "    peso_ideal = round(float((altura*62.1)-44.7),2)\n",
    "    print(f\"Para uma mulher de {altura}m, seu peso ideal é de {peso_ideal} kg\")\n",
    "\n",
    "else :\n",
    "    print(\"Desculpe, algo está errado nas variaveis. Veja se o sexo está escrito como: (Masculino) ou (Feminino) e a altura com (.) ao invés de (,)\")\n",
    "    "
   ]
  },
  {
   "cell_type": "markdown",
   "metadata": {},
   "source": [
    "### 6 - Faça um Programa para uma loja de tintas. O programa deverá pedir o tamanho em metros quadrados da área a ser pintada. Considere que a cobertura da tinta é de 1 litro para cada 6 metros quadrados e que a tinta é vendida em latas de 18 litros, que custam R 80,00 ou em galões de 3,6 litros, que custam R 25,00. Informe ao usuário as quantidades de tinta a serem compradas e os respectivos preços em 3 situações:\n",
    "### a) comprar apenas latas de 18 litros;"
   ]
  },
  {
   "cell_type": "code",
   "execution_count": 70,
   "metadata": {},
   "outputs": [
    {
     "name": "stdout",
     "output_type": "stream",
     "text": [
      "Qual o tamanho da área pintada? (em metros) 340\n"
     ]
    }
   ],
   "source": [
    "area_pintada = float(input(\"Qual o tamanho da área pintada? (em metros) \"))"
   ]
  },
  {
   "cell_type": "code",
   "execution_count": 80,
   "metadata": {},
   "outputs": [
    {
     "name": "stdout",
     "output_type": "stream",
     "text": [
      "Para pintar uma área de 340.0 metros quadrados: \n",
      " \n",
      "Número de latas necessárias: 4.0\n",
      "Valor gasto: R$320.8\n"
     ]
    }
   ],
   "source": [
    "litros_necessarios = float(area_pintada/6)\n",
    "latas_necessarias = round(float((litros_necessarios/18)+0.5),0)\n",
    "custo_latas = round(float(latas_necessarias*80.2),2)\n",
    "\n",
    "print(f\"Para pintar uma área de {area_pintada} metros quadrados: \")\n",
    "print(\" \")\n",
    "print(f\"Número de latas necessárias: {latas_necessarias}\")\n",
    "print(f\"Valor gasto: R${custo_latas}\")"
   ]
  },
  {
   "cell_type": "markdown",
   "metadata": {},
   "source": [
    "### b) comprar apenas galões de 3,6 litros;"
   ]
  },
  {
   "cell_type": "code",
   "execution_count": 81,
   "metadata": {},
   "outputs": [
    {
     "name": "stdout",
     "output_type": "stream",
     "text": [
      "Para pintar uma área de 340.0 metros quadrados: \n",
      " \n",
      "Número de galões necessários: 16.0\n",
      "Valor gasto: R$400.0\n"
     ]
    }
   ],
   "source": [
    "litros_necessarios = float(area_pintada/6)\n",
    "galoes_necessarios= round(float((litros_necessarios/3.6)+0.5),0)\n",
    "custo_galoes = round(float(galoes_necessarios*25),2)\n",
    "\n",
    "print(f\"Para pintar uma área de {area_pintada} metros quadrados: \")\n",
    "print(\" \")\n",
    "print(f\"Número de galões necessários: {galoes_necessarios}\")\n",
    "print(f\"Valor gasto: R${custo_galoes}\")"
   ]
  },
  {
   "cell_type": "markdown",
   "metadata": {},
   "source": [
    "### c) misturar latas e galões, de forma que o preço seja o menor. Considere latas cheias."
   ]
  },
  {
   "cell_type": "code",
   "execution_count": 86,
   "metadata": {},
   "outputs": [
    {
     "name": "stdout",
     "output_type": "stream",
     "text": [
      "Para pintar uma área de 340.0 metros quadrados: \n",
      " \n",
      "Número de latas necessárias: 3.0\n",
      "Número de galões necessários: 1.0\n",
      "Valor gasto: R$265.6\n"
     ]
    }
   ],
   "source": [
    "litros_necessarios = float(area_pintada/6)\n",
    "latas_necessarias = round(float(litros_necessarios/18)-0.5,0)\n",
    "galoes_necessarios = round(float(((litros_necessarios-(latas_necessarias*18))/3.6)+0.5),0)\n",
    "\n",
    "custo_latas = round(float(latas_necessarias*80.2),2)\n",
    "custo_galoes = round(float(galoes_necessarios*25),2)\n",
    "custo_total = custo_latas+custo_galoes\n",
    "\n",
    "print(f\"Para pintar uma área de {area_pintada} metros quadrados: \")\n",
    "print(\" \")\n",
    "print(f\"Número de latas necessárias: {latas_necessarias}\")\n",
    "print(f\"Número de galões necessários: {galoes_necessarios}\")\n",
    "print(f\"Valor gasto: R${custo_total}\")"
   ]
  }
 ],
 "metadata": {
  "kernelspec": {
   "display_name": "Python 3",
   "language": "python",
   "name": "python3"
  },
  "language_info": {
   "codemirror_mode": {
    "name": "ipython",
    "version": 3
   },
   "file_extension": ".py",
   "mimetype": "text/x-python",
   "name": "python",
   "nbconvert_exporter": "python",
   "pygments_lexer": "ipython3",
   "version": "3.7.4"
  }
 },
 "nbformat": 4,
 "nbformat_minor": 2
}
