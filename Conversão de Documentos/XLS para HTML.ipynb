{
 "cells": [
  {
   "cell_type": "markdown",
   "metadata": {},
   "source": [
    "### Transformando arquivos XLS em HTML sem precisar abri-los"
   ]
  },
  {
   "cell_type": "code",
   "execution_count": 2,
   "metadata": {},
   "outputs": [],
   "source": [
    "import pandas as pd                                         # Importando biblioteca Pandas\n",
    "\n",
    "arquivo_Excel = str(r'C:\\Users\\Downloads\\HiagoTeste.xlsx')   # Caminho do arquivo original e nome\n",
    "arquivo_HTML = str(r'C:\\Users\\Downloads\\HiagoTeste.html')    # Mesmo caminho do arqivo original e nome, mas trocando a formatação do nome para HTML\n",
    "aba_específica = 'AT2000 F'                                  # Nome da aba em especifico que será importada, caso não tenha, basta importar o arquivo todo\n",
    "\n",
    "\n",
    "def formar_html(arquivo_Excel, arquivo_HTML):\n",
    "    leia_excel = pd.read_excel(arquivo_Excel, sheet_name = aba_específica)\n",
    "    leia_excel.to_html(arquivo_HTML, index=None, header=True)\n",
    "formar_html(arquivo_Excel, arquivo_HTML)"
   ]
  },
  {
   "cell_type": "markdown",
   "metadata": {},
   "source": [
    "#### Pronto, o arquivo já estará salvo em HTML no caminho indicado na variavel \"arquivo_HTML\""
   ]
  }
 ],
 "metadata": {
  "kernelspec": {
   "display_name": "Python 3",
   "language": "python",
   "name": "python3"
  },
  "language_info": {
   "codemirror_mode": {
    "name": "ipython",
    "version": 3
   },
   "file_extension": ".py",
   "mimetype": "text/x-python",
   "name": "python",
   "nbconvert_exporter": "python",
   "pygments_lexer": "ipython3",
   "version": "3.7.4"
  }
 },
 "nbformat": 4,
 "nbformat_minor": 2
}
