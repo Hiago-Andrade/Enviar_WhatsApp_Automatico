{
 "cells": [
  {
   "cell_type": "markdown",
   "metadata": {},
   "source": [
    "### Transformando arquivos PDF em IMAGENS"
   ]
  },
  {
   "cell_type": "code",
   "execution_count": null,
   "metadata": {},
   "outputs": [],
   "source": [
    "Instalando o módulo do pdf2image:\n",
    "\n",
    "pip install pdf2image"
   ]
  },
  {
   "cell_type": "code",
   "execution_count": null,
   "metadata": {},
   "outputs": [],
   "source": [
    "from pdf2image import convert_from_path, convert_from_bytes\n",
    "\n",
    "imagem = convert_from_path(\"local e nome do arquivo.pdf\", dpi=200)   # Convertendo o PDF em formato IMAGEM\n",
    "\n",
    "i = 0                                                                # Salvando a imagem em .png\n",
    "for imagens in imagem:\n",
    "    i = i+1\n",
    "    imagens.save(\"imagem\" + str(i) + \".jpg\", \"JPEG\")"
   ]
  },
  {
   "cell_type": "markdown",
   "metadata": {},
   "source": [
    "#### Pronto, serão salvos arquivos de IMAGEM para cada pagina do PDF"
   ]
  }
 ],
 "metadata": {
  "kernelspec": {
   "display_name": "Python 3",
   "language": "python",
   "name": "python3"
  },
  "language_info": {
   "codemirror_mode": {
    "name": "ipython",
    "version": 3
   },
   "file_extension": ".py",
   "mimetype": "text/x-python",
   "name": "python",
   "nbconvert_exporter": "python",
   "pygments_lexer": "ipython3",
   "version": "3.7.4"
  }
 },
 "nbformat": 4,
 "nbformat_minor": 2
}
