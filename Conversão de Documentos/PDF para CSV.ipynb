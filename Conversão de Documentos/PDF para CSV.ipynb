{
 "cells": [
  {
   "cell_type": "markdown",
   "metadata": {},
   "source": [
    "### Transformando arquivos PDF em CSV "
   ]
  },
  {
   "cell_type": "code",
   "execution_count": null,
   "metadata": {},
   "outputs": [],
   "source": [
    "#Baixando o pacote do tabula\n",
    "\n",
    "pip install tabula-py"
   ]
  },
  {
   "cell_type": "code",
   "execution_count": null,
   "metadata": {},
   "outputs": [],
   "source": [
    "import tabula\n",
    "import pandas as pd\n",
    "\n",
    "df = tabula.read_pdf(\"local e nome do arquivo.pdf\", pages=\"all\")   # Convertendo todas as paginas do arquivo pdf em uma lista\n",
    "tabula.convert_into(\"local e nome do arquivo.pdf\", \"local e nome do arquivo.csv\", output_format=\"csv\", pages=\"all\")\n",
    "\n",
    "df_csv = pd.read_csv(\"data/preliminar.csv\")   # Lendo o arquivo criado em CSV"
   ]
  },
  {
   "cell_type": "markdown",
   "metadata": {},
   "source": [
    "#### Pronto, o arquivo já estará salvo em CSV no caminho indicado"
   ]
  }
 ],
 "metadata": {
  "kernelspec": {
   "display_name": "Python 3",
   "language": "python",
   "name": "python3"
  },
  "language_info": {
   "codemirror_mode": {
    "name": "ipython",
    "version": 3
   },
   "file_extension": ".py",
   "mimetype": "text/x-python",
   "name": "python",
   "nbconvert_exporter": "python",
   "pygments_lexer": "ipython3",
   "version": "3.7.4"
  }
 },
 "nbformat": 4,
 "nbformat_minor": 2
}
